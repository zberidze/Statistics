{
  "nbformat": 4,
  "nbformat_minor": 0,
  "metadata": {
    "colab": {
      "provenance": []
    },
    "kernelspec": {
      "name": "python3",
      "display_name": "Python 3"
    }
  },
  "cells": [
    {
      "cell_type": "markdown",
      "metadata": {
        "id": "Y8AJ1blrmkme"
      },
      "source": [
        "В этом уроке вы изучите непараметрические статистические тесты, используемые для сравнения двух и более групп.\n",
        "\n",
        "После изучения этого урока вы будете знать:\n",
        "\n",
        "*   критерий Манна-Уитни для сравнения двух независимых выборок;\n",
        "*   критерий Уилкоксона для сравнения двух зависимых (связанных) выборок, парных наблюдений;\n",
        "*   критерий Краскела-Уоллиса для сравнения медиан в нескольких выборках."
      ]
    },
    {
      "cell_type": "markdown",
      "metadata": {
        "id": "HIuT_kQwXTcy"
      },
      "source": [
        "Согласно оригинальной постановке [1] тест Манна-Уитни предполагает, что даны две непрерывные случайные величины $X$ и $Y$ с функциями распределения $F_X(t)$ и $F_Y(t),$ соответственно. Тестируется нулевая гипотеза, состоящая в том, что $F_X(t) = F_Y(t),$ при альтернативной гипотезе, состоящей в том, что $X <_{st} Y,$ т. е. $X$ стохастически меньше $Y.$\n",
        "\n",
        "\n",
        "**Определение**\n",
        "\n",
        "Случайная величина $X$ стохастически меньше случайной величины $Y,$ если для любого $t \\in \\mathbb{R}$ справедливо $F_X(t) >F_Y(t).$\n",
        "\n",
        "Существуют модификации теста Манна-Уитни, суть которых состоит в том, что расчетная процедура сохранятеся (ранжирование проводят по тем же правилам, критерий $U$ вычисляют по тем же формулам и т. д.), однако за счет более жестких предположений или иной формулировки нулевой и/или альтернативной гипотез удается дать более понятную интерпретацию результата [2].\n",
        "\n",
        "Одна из таких модификаций тестирует нулевую гипотезу $F_X(t) = F_Y(t)$ при альтернативной $F_Y(t) = F_X(t + \\Delta), \\; \\Delta > 0.$ Если принимается альтерантивная гипотеза, то можно сделать содержательный вывод, что медиана $Y$ больше медины $X.$\n",
        "\n",
        "\n",
        "1. Mann, Henry B.; Whitney, Donald R. (1947). \"On a Test of Whether one of Two Random Variables is Stochastically Larger than the Other\". Annals of Mathematical Statistics. 18 (1): 50–60.\n",
        "\n",
        "\n",
        "2. Fay, Michael P.; Proschan, Michael A. (2010). \"Wilcoxon–Mann–Whitney or t-test? On assumptions for hypothesis tests and multiple interpretations of decision rules\". Statistics Surveys. 4: 1–39."
      ]
    },
    {
      "cell_type": "markdown",
      "metadata": {
        "id": "ezEwATaMiCEc"
      },
      "source": [
        "# Задача 1\n",
        "\n",
        "\n",
        "Есть две выборки, извлеченные из распределенных по закону Пуассона генеральных совокупнстей. Сравнить две выборки. Проверить, совпадают ли функции распределения двух соответствующих случайных величин или первая является стохастически меньше второй.\n",
        "\n",
        "https://numpy.org/doc/stable/reference/random/generated/numpy.random.Generator.poisson.html"
      ]
    },
    {
      "cell_type": "code",
      "metadata": {
        "id": "WuIKwQcVw_db",
        "colab": {
          "base_uri": "https://localhost:8080/",
          "height": 843
        },
        "outputId": "6b37032c-d9e6-4f87-af2c-a07b970bd065"
      },
      "source": [
        "import numpy as np\n",
        "np.random.seed(3)\n",
        "rng = np.random.default_rng()\n",
        "data1 = rng.poisson(5, 100)\n",
        "data2 = rng.poisson(9, 100)\n",
        "\n",
        "\n",
        "import matplotlib.pyplot as plt\n",
        "plt.hist(data1, density=True)\n",
        "plt.show()\n",
        "plt.hist(data2, density=True)\n",
        "plt.show()"
      ],
      "execution_count": null,
      "outputs": [
        {
          "output_type": "display_data",
          "data": {
            "text/plain": [
              "<Figure size 640x480 with 1 Axes>"
            ],
            "image/png": "[encoded data removed]"
          },
          "metadata": {}
        },
        {
          "output_type": "display_data",
          "data": {
            "text/plain": [
              "<Figure size 640x480 with 1 Axes>"
            ],
            "image/png": "[encoded data removed]"
          },
          "metadata": {}
        }
      ]
    },
    {
      "cell_type": "code",
      "source": [
        "print(data1)"
      ],
      "metadata": {
        "colab": {
          "base_uri": "https://localhost:8080/"
        },
        "id": "fremsJWY6BYE",
        "outputId": "4e35e6ba-7dbc-4583-a4f8-26b452845746"
      },
      "execution_count": null,
      "outputs": [
        {
          "output_type": "stream",
          "name": "stdout",
          "text": [
            "[ 3  4  3  4  6  7  5  5  8  7  4  3  6  6  3  6  1  5  7  8  2  3  1 10\n",
            "  4  5  4  5  3  5  6 10  4  2  8  7  5  3  2  3  2  5  5  4  3  5  3  5\n",
            "  5  7  5  2  3  7 10  8  7  4  7  3  5  6  5  9  6  3  6  3  7  4  6  7\n",
            "  1  6  6  5  5  3  5  8  8  1  2  6  6  6  6  4  5  7  5  7  8  3  4  3\n",
            "  1  8  3  5]\n"
          ]
        }
      ]
    },
    {
      "cell_type": "code",
      "source": [
        "print(data2)"
      ],
      "metadata": {
        "colab": {
          "base_uri": "https://localhost:8080/"
        },
        "id": "DIoovdui6EhJ",
        "outputId": "9b8fe54a-c67b-4abe-dcc7-34270026adf3"
      },
      "execution_count": null,
      "outputs": [
        {
          "output_type": "stream",
          "name": "stdout",
          "text": [
            "[14 11 13  9  7 11  3  9  9 14  5 10 10  9  9  8  9  6 11 13  6  8  7 15\n",
            "  7 10  8 10 11  3  6  9 11  9  4  5  5  3 10  3  6  7  9 13  9  4 12  4\n",
            "  8  7  9 10 11 10  7  9  7  9  7 11 10  7 12  5  9 11  6  8  8  7 10  4\n",
            "  9  9 13 11  5  7 11  3 11 10 11 12 11  6  4  6 12  7 12  5  9  9  7  8\n",
            " 13  8 12 11]\n"
          ]
        }
      ]
    },
    {
      "cell_type": "code",
      "metadata": {
        "colab": {
          "base_uri": "https://localhost:8080/"
        },
        "id": "wlj5OT_lhaB4",
        "outputId": "1608df2e-7d37-40a3-904c-507a796e9c8c"
      },
      "source": [
        "from scipy.stats import mannwhitneyu\n",
        "\n",
        "stat, p = mannwhitneyu(data1, data2)\n",
        "print('Statistics=%.3f, p=%.3f' % (stat, p))\n",
        "alpha = 0.05\n",
        "if p > alpha:\n",
        "\tprint('Same distribution (fail to reject H0)')\n",
        "else:\n",
        "\tprint('Different distribution (reject H0)')"
      ],
      "execution_count": null,
      "outputs": [
        {
          "output_type": "stream",
          "name": "stdout",
          "text": [
            "Statistics=1621.000, p=0.000\n",
            "Different distribution (reject H0)\n"
          ]
        }
      ]
    },
    {
      "cell_type": "code",
      "source": [
        "print(p)"
      ],
      "metadata": {
        "id": "3RUO3l5d7RLO",
        "outputId": "433ab289-ab02-4a76-9453-8966d915985d",
        "colab": {
          "base_uri": "https://localhost:8080/"
        }
      },
      "execution_count": null,
      "outputs": [
        {
          "output_type": "stream",
          "name": "stdout",
          "text": [
            "1.0781381620010937e-16\n"
          ]
        }
      ]
    },
    {
      "cell_type": "markdown",
      "metadata": {
        "id": "TtQjb7EKp67O"
      },
      "source": [
        "# Задача 2\n",
        "\n",
        "Сорок пациентов проходили наблюдение и лечение. На углубленном неврологическом осмотре была использована визуально-аналоговая шкала для оценки (в баллах) интенсивности боли в кисти. После двухнедельного курса лечения пациенты снова были обследованы с использованием того же опросника. Используя баллы до и после лечения, ответить на вопрос: эффективно ли лечение в смысле уменьшения интенсивности боли.\n",
        "\n",
        "https://numpy.org/doc/stable/reference/random/generated/numpy.random.Generator.poisson.html"
      ]
    },
    {
      "cell_type": "code",
      "metadata": {
        "colab": {
          "base_uri": "https://localhost:8080/"
        },
        "id": "sGvSqdpJqjKT",
        "outputId": "642af568-9b39-4955-8ce3-77f182497994"
      },
      "source": [
        "import numpy as np\n",
        "np.random.seed(3)\n",
        "rng = np.random.default_rng()\n",
        "\n",
        "rng = np.random.default_rng()\n",
        "n, p = 10, .6  # Just some parameters for binomial distribution\n",
        "beforeTreatment = rng.binomial(n, p, 40)\n",
        "\n",
        "afterTreatment = np.array([0]*40)\n",
        "for i in range(len(beforeTreatment)):\n",
        "  afterTreatment[i] = beforeTreatment[i] + rng.binomial(5, 0.5, 1) - 4\n",
        "for i in range(len(beforeTreatment)):\n",
        "    print(beforeTreatment[i], afterTreatment[i])"
      ],
      "execution_count": null,
      "outputs": [
        {
          "output_type": "stream",
          "name": "stdout",
          "text": [
            "6 6\n",
            "5 3\n",
            "5 4\n",
            "8 5\n",
            "5 3\n",
            "5 3\n",
            "7 7\n",
            "7 6\n",
            "8 7\n",
            "5 5\n",
            "6 4\n",
            "7 5\n",
            "6 4\n",
            "6 2\n",
            "7 6\n",
            "7 5\n",
            "8 8\n",
            "4 2\n",
            "7 4\n",
            "4 2\n",
            "6 6\n",
            "7 6\n",
            "4 2\n",
            "5 6\n",
            "8 8\n",
            "5 5\n",
            "6 4\n",
            "10 8\n",
            "7 5\n",
            "7 7\n",
            "7 7\n",
            "3 3\n",
            "4 0\n",
            "8 6\n",
            "5 5\n",
            "7 5\n",
            "7 6\n",
            "7 6\n",
            "7 5\n",
            "6 5\n"
          ]
        }
      ]
    },
    {
      "cell_type": "code",
      "metadata": {
        "colab": {
          "base_uri": "https://localhost:8080/",
          "height": 1000
        },
        "id": "a_xURHV430Gi",
        "outputId": "1077afdf-bafe-4ff4-ede1-0465f55990a1"
      },
      "source": [
        "import matplotlib.pyplot as plt\n",
        "plt.hist(beforeTreatment, density=True)\n",
        "plt.show()\n",
        "plt.hist(afterTreatment, density=True)\n",
        "plt.show()\n",
        "\n",
        "\n",
        "plt.scatter(afterTreatment, beforeTreatment)\n",
        "plt.show()"
      ],
      "execution_count": null,
      "outputs": [
        {
          "output_type": "display_data",
          "data": {
            "text/plain": [
              "<Figure size 640x480 with 1 Axes>"
            ],
            "image/png": "[encoded data removed]"
          },
          "metadata": {}
        },
        {
          "output_type": "display_data",
          "data": {
            "text/plain": [
              "<Figure size 640x480 with 1 Axes>"
            ],
            "image/png": "[encoded data removed]"
          },
          "metadata": {}
        },
        {
          "output_type": "display_data",
          "data": {
            "text/plain": [
              "<Figure size 640x480 with 1 Axes>"
            ],
            "image/png": "[encoded data removed]"
          },
          "metadata": {}
        }
      ]
    },
    {
      "cell_type": "code",
      "metadata": {
        "colab": {
          "base_uri": "https://localhost:8080/"
        },
        "id": "r7hV9zlCsjBF",
        "outputId": "91817b70-bafe-4ead-ab97-47e3201b4550"
      },
      "source": [
        "from scipy.stats import wilcoxon\n",
        "\n",
        "stat, p = wilcoxon(beforeTreatment, afterTreatment)\n",
        "print('Statistics=%.3f, p=%.3f' % (stat, p))\n",
        "\n",
        "alpha = 0.05\n",
        "if p > alpha:\n",
        "\tprint('Same distribution (fail to reject H0)')\n",
        "else:\n",
        "\tprint('Different distribution (reject H0)')"
      ],
      "execution_count": null,
      "outputs": [
        {
          "output_type": "stream",
          "text": [
            "Statistics=42.500, p=0.000\n",
            "Different distribution (reject H0)\n"
          ],
          "name": "stdout"
        }
      ]
    }
  ]
}