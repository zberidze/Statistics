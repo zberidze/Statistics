{
 "cells": [
  {
   "cell_type": "markdown",
   "metadata": {},
   "source": [
    "# Семинар 10: статистика и A/B тестирование\n",
    "\n",
    "## Вступление\n",
    "После имплементации любого продуктового решения создателям непременно приходится оценивать его качество по поведению реальных пользователей. Зачастую это делается так: с пользователей собираются анонимные логи (скачивания, клики, статистика использования отдельных фичей продукта). Для многих продуктовых решений невозможно заранее понять, какие детали имплементации вызовут более положительную реакцию пользователей, поэтому имеет место A/B тестирование: разным группам пользователей предоставляются разные решения, и отслеживается разница собранных статистик между всеми группами. Однако не всегда легко понять, насколько случайны наблюдаемые различия между статистиками, собранными с разных групп. Сегодня мы обсудим базовые понятия из статистики и рассмотрим набор методов, который позволит нам с уверенностью рассуждать о наличии или отсутствии различий в разных выборках.\n",
    "\n",
    "### План семинара\n",
    "1. Случайные величины\n",
    "    1. Распределение вероятностей\n",
    "    2. Функция распределения\n",
    "2. Нормальный закон распределения\n",
    "    1. Закон больших чисел и центральная предельная теорема\n",
    "    2. Формулы для функции и плотности нормального распределения\n",
    "    3. Генерирование выборки, графики функций распределения и плотностей, эмпирических и теоретических\n",
    "3. Нахождение доверительных интервалов\n",
    "    1. Упражнения и теория\n",
    "    2. Доверительный интервал на основе нормального распределения\n",
    "    3. Доверительный интервал Уилсона (лучше, для средних значений близких к 0 и 1)\n",
    "4. Проверка гипотез\n",
    "    1. Критерии Стьюдента\n",
    "        1. Одновыборочный критерий Стьюдента\n",
    "        2. Двувыборочный критерий Стьюдента\n",
    "        3. Двувыборочный критерий Стьюдента для зависимых выборок\n",
    "    2. Непараметрические критерии\n",
    "        1. Двувыборочный непараметрический критерий для независимых выборок\n",
    "        2. Ранговый критерий Манна-Уитни\n",
    "5. A/B тестирование"
   ]
  },
  {
   "cell_type": "code",
   "execution_count": 1,
   "metadata": {
    "ExecuteTime": {
     "end_time": "2023-04-26T17:59:50.189491Z",
     "start_time": "2023-04-26T17:59:49.629754Z"
    }
   },
   "outputs": [
    {
     "name": "stdout",
     "output_type": "stream",
     "text": [
      "%pylab is deprecated, use %matplotlib inline and import the required libraries.\n",
      "Populating the interactive namespace from numpy and matplotlib\n"
     ]
    }
   ],
   "source": [
    "import random\n",
    "import warnings\n",
    "from collections import Counter\n",
    "\n",
    "import matplotlib.pyplot as plt\n",
    "import pandas as pd\n",
    "import scipy\n",
    "import scipy.stats as sts\n",
    "from statsmodels.distributions.empirical_distribution import ECDF\n",
    "from statsmodels.stats.weightstats import *\n",
    "\n",
    "warnings.filterwarnings(\"ignore\")\n",
    "random.seed(42)\n",
    "\n",
    "%pylab inline\n",
    "%matplotlib inline"
   ]
  },
  {
   "cell_type": "markdown",
   "metadata": {
    "id": "CnjcXBn2-ltL"
   },
   "source": [
    "## 1. Случайные величины\n",
    "\n",
    "Случайные величины бывают дискретные и непрерывные. Как можно догадаться из названия, первые принимают значения из дискретного множества (конечного или счётного), вторые — из непрерывного.\n",
    "\n",
    "На практике статистические заключения опираются на допущения о том, как распределены рассматриваемые случайные переменные (данные). Даже принято преобразовывать данные так, чтобы они соответствовали одному из известных распределений: вспомните, например, `StandardScaler`.\n",
    "\n",
    "### 1.1 Распределение вероятностей\n",
    "*Закон распределения вероятностей — это выражение, которое определяет, какие значения будет принимать данная переменная или параметр, и как часто будет встречаться каждое из этих значений.*\n",
    "\n",
    "Строго говоря, такое определение верно для дискретных случайных величин. С непрерывными всё чуть сложнее, потому что конкретное значение они принимают с вероятностью 0. Вместо этого для них определяют закон распределения через плотность распределения. Впрочем, сейчас для нас это скорее детали.\n",
    "\n",
    "Иногда закон распределения случайной величины можно выписать сразу. Например, если случайная величина $X$ — число выпадающих очков при бросках игральной кости (шестигранный кубик с точками), то закон распределения её значений можно представить в виде таблицы:\n",
    "\n",
    "| | | | | | | |\n",
    "|-------------:|:---------|:--------|:---------|:---------|:--------|:---------|\n",
    "|$$X$$         |1         |2        |3         |4         |5        |6         |\n",
    "|$$p(X)$$      |1/6       |1/6      |1/6       |1/6       |1/6      |1/6       |\n",
    "\n",
    "На практике мы далеко не всегда заранее знаем закон распределения случайной величины (ее функцию вероятности). В таком случае мы стараемся оценить её на основании имеющихся данных.\n",
    "\n",
    "Проведём эксперимент. Смоделируем на питоне результаты $n=200$ бросков игральной кости."
   ]
  },
  {
   "cell_type": "code",
   "execution_count": 2,
   "metadata": {
    "colab": {
     "base_uri": "https://localhost:8080/"
    },
    "id": "joUtaXBb-ltN",
    "outputId": "d0f20a7c-6cbc-4c5e-a949-4ac1f547e495",
    "ExecuteTime": {
     "end_time": "2023-04-26T17:59:50.197119Z",
     "start_time": "2023-04-26T17:59:50.190114Z"
    }
   },
   "outputs": [
    {
     "name": "stdout",
     "output_type": "stream",
     "text": [
      "Выпавшие значения Х: [3 4 2 ... 5 6 1]\n"
     ]
    }
   ],
   "source": [
    "n = 20000\n",
    "sample = np.random.choice([1, 2, 3, 4, 5, 6], n)\n",
    "print(\"Выпавшие значения Х:\", sample)"
   ]
  },
  {
   "cell_type": "markdown",
   "metadata": {
    "id": "yU36TF4b-ltN"
   },
   "source": [
    "Вероятности значений случайной величины $X$ можно оценить с помощью *относительных частот* выпадения значений."
   ]
  },
  {
   "cell_type": "code",
   "execution_count": 3,
   "metadata": {
    "colab": {
     "base_uri": "https://localhost:8080/"
    },
    "id": "hA8480n1-ltO",
    "outputId": "abce0b4f-eedc-48a9-a8fa-95e609be3ddc",
    "ExecuteTime": {
     "end_time": "2023-04-26T17:59:50.203583Z",
     "start_time": "2023-04-26T17:59:50.195695Z"
    }
   },
   "outputs": [
    {
     "name": "stdout",
     "output_type": "stream",
     "text": [
      "Число выпадений каждого значения:\n",
      "Counter({3: 3420, 2: 3396, 5: 3359, 4: 3337, 6: 3244, 1: 3244}) \n",
      "\n",
      "Вероятности выпадений каждого значения:\n",
      "{3: 0.171, 4: 0.16685, 2: 0.1698, 6: 0.1622, 1: 0.1622, 5: 0.16795}\n"
     ]
    }
   ],
   "source": [
    "c = Counter()\n",
    "for i in sample:\n",
    "    c[i] += 1\n",
    "\n",
    "print(\"Число выпадений каждого значения:\")\n",
    "print(c, \"\\n\")\n",
    "\n",
    "print(\"Вероятности выпадений каждого значения:\")\n",
    "p_X = {key: value / n for key, value in c.items()}\n",
    "print(p_X)"
   ]
  },
  {
   "cell_type": "code",
   "execution_count": 4,
   "metadata": {
    "id": "ObJYyltu-ltO",
    "ExecuteTime": {
     "end_time": "2023-04-26T17:59:50.268860Z",
     "start_time": "2023-04-26T17:59:50.204514Z"
    }
   },
   "outputs": [
    {
     "data": {
      "text/plain": "<Figure size 640x480 with 1 Axes>",
      "image/png": "[encoded data removed]"
     },
     "metadata": {},
     "output_type": "display_data"
    }
   ],
   "source": [
    "# нарисуем распределение вероятностей:\n",
    "for key in p_X:\n",
    "    plt.scatter([key], p_X[key], label=key)\n",
    "plt.show()"
   ]
  },
  {
   "cell_type": "markdown",
   "metadata": {
    "id": "sXcUn_l3-ltO"
   },
   "source": [
    "**Задание.** Проведите эксперименты для 2000, 20000, 200000 бросков. Что происходит с вероятностями? Что за значение, к которому вероятности стремятся?"
   ]
  },
  {
   "cell_type": "markdown",
   "metadata": {
    "id": "ufdl4kco-ltO"
   },
   "source": [
    "### 1.2 Функция распределения\n",
    "Знание распределения вероятностей позволяет построить *функцию распределения* $F(x)$. Обратное тоже верно.\n",
    "\n",
    "$F(x)$ — это вероятность того, что случайная величина $X$ примет значение меньшее или равное, чем $x$, т.е. $F(x)=P(X\\leq x).$\n",
    "\n",
    "Из этого определения следует очень важная для практики формула вероятности попадания случайной величины $X$ в интервал:\n",
    "\n",
    "$$P(a<X\\leq b)=F(b)-F(a).$$"
   ]
  },
  {
   "cell_type": "code",
   "execution_count": 5,
   "metadata": {
    "colab": {
     "base_uri": "https://localhost:8080/",
     "height": 297
    },
    "id": "Zsjfv_r8-ltP",
    "outputId": "c07563b5-a31b-425c-c754-c89471f99cd1",
    "ExecuteTime": {
     "end_time": "2023-04-26T17:59:50.400971Z",
     "start_time": "2023-04-26T17:59:50.270140Z"
    }
   },
   "outputs": [
    {
     "data": {
      "text/plain": "<Figure size 640x480 with 1 Axes>",
      "image/png": "[encoded data removed]"
     },
     "metadata": {},
     "output_type": "display_data"
    }
   ],
   "source": [
    "# построим функцию распределения для нашей выборки\n",
    "F = ECDF(sample, side=\"right\")\n",
    "plt.step(F.x, F.y, label=\"F(x)\")\n",
    "\n",
    "plt.ylabel(\"$F(x)$\")\n",
    "plt.xlabel(\"$x$\")\n",
    "plt.legend(loc=\"upper left\");"
   ]
  },
  {
   "cell_type": "code",
   "execution_count": 6,
   "outputs": [
    {
     "name": "stdout",
     "output_type": "stream",
     "text": [
      "[0.66985]\n"
     ]
    }
   ],
   "source": [
    "print(F([4]))"
   ],
   "metadata": {
    "collapsed": false,
    "ExecuteTime": {
     "end_time": "2023-04-26T17:59:50.401998Z",
     "start_time": "2023-04-26T17:59:50.400443Z"
    }
   }
  },
  {
   "cell_type": "markdown",
   "metadata": {
    "id": "XiHxoKNG-ltP"
   },
   "source": [
    "**Задание.**\n",
    "1. Найдите F(1), F(3), F(6), F(10). Почему получились именно такие значения?\n",
    "\n",
    "2. Найдите вероятность того, что при броске выпадет не менее 3 и не более 5 очков."
   ]
  },
  {
   "cell_type": "code",
   "execution_count": 7,
   "metadata": {
    "ExecuteTime": {
     "end_time": "2023-04-26T17:59:50.405147Z",
     "start_time": "2023-04-26T17:59:50.403349Z"
    }
   },
   "outputs": [
    {
     "name": "stdout",
     "output_type": "stream",
     "text": [
      "Задание 1: \n",
      "0.1622 0.503 1.0 1.0\n",
      "Задание 2: \n",
      "0.5058\n"
     ]
    }
   ],
   "source": [
    "# your code here\n",
    "\n",
    "print(\"Задание 1: \")\n",
    "print(F(1), F(3), F(6), F(10))\n",
    "\n",
    "print(\"Задание 2: \")\n",
    "print(F(5) - F(2))"
   ]
  },
  {
   "cell_type": "markdown",
   "metadata": {},
   "source": [
    "Построим гистаграмму принимаемых значений"
   ]
  },
  {
   "cell_type": "code",
   "execution_count": 8,
   "metadata": {
    "ExecuteTime": {
     "end_time": "2023-04-26T17:59:50.487893Z",
     "start_time": "2023-04-26T17:59:50.407350Z"
    }
   },
   "outputs": [
    {
     "data": {
      "text/plain": "<Figure size 640x480 with 1 Axes>",
      "image/png": "[encoded data removed]"
     },
     "metadata": {},
     "output_type": "display_data"
    }
   ],
   "source": [
    "plt.hist(sample, bins=6, density=True);"
   ]
  },
  {
   "cell_type": "code",
   "execution_count": 9,
   "metadata": {
    "ExecuteTime": {
     "end_time": "2023-04-26T17:59:50.562569Z",
     "start_time": "2023-04-26T17:59:50.474175Z"
    }
   },
   "outputs": [
    {
     "data": {
      "text/plain": "<Figure size 640x480 with 1 Axes>",
      "image/png": "[encoded data removed]"
     },
     "metadata": {},
     "output_type": "display_data"
    }
   ],
   "source": [
    "plt.hist(sample, bins=100, density=True, cumulative=True);"
   ]
  },
  {
   "cell_type": "markdown",
   "metadata": {
    "id": "RKvrHhZm-ltQ"
   },
   "source": [
    "## 2. Нормальный закон распределения\n",
    "В теории статистики доказаны две теоремы, которые обосновывают все статистические вычисления. В силу своей важности эти теоремы получили громкие названия: Центральная предельная теорема и Закон больших чисел.\n",
    "\n",
    "### 2.1 Закон больших чисел и центральная предельная теорема\n",
    "*Закон больших чисел* утверждает, что какое бы ни было распределение случайной величины, среднее арифметическое ее реализаций при их большом числе близко к истинному значению среднего значения распределения.\n",
    "\n",
    "*Центральная предельная теорема* утверждает, что если случайная величина формирует свои значения под действием многочисленных, независимых факторов, влияние каждого из которых пренебрежимо мало, то такая величина распределена нормально.\n",
    "\n",
    "По ЦПТ получается, что среднее случайных величин будет распределено как $N(\\mu, \\sigma^2/n)$.\n",
    "\n",
    "**Задание.**\n",
    "Напишите функцию, которая будет выдавать ожидаемое нами стандартное отклонение для среднего по k случайным равномерно распределенным от 0 до 1 величинам.\n",
    "\n",
    "**Подсказка:**\n",
    "Вообще говоря дисперсия равномерной случайной величины равна $\\frac{(b - a)^2}{12}$"
   ]
  },
  {
   "cell_type": "code",
   "execution_count": 10,
   "metadata": {
    "ExecuteTime": {
     "end_time": "2023-04-26T17:59:50.563978Z",
     "start_time": "2023-04-26T17:59:50.562145Z"
    }
   },
   "outputs": [],
   "source": [
    "def get_std(k: int):\n",
    "    return np.sqrt((1 / 12) / k)"
   ]
  },
  {
   "cell_type": "markdown",
   "metadata": {
    "id": "VklmHFEi-ltR"
   },
   "source": [
    "Давайте посмотрим на теорему в действии. Сформируем случайную величину, которая представляет собой сумму $k$ случайных чисел из какого-нибудь распределения (например, равномерного). Сгенерируем  $N$ таких сумм и посмотрим, как они будут распределены."
   ]
  },
  {
   "cell_type": "code",
   "execution_count": 11,
   "metadata": {
    "id": "P0nk9DEP-ltR",
    "ExecuteTime": {
     "end_time": "2023-04-26T17:59:50.568314Z",
     "start_time": "2023-04-26T17:59:50.564035Z"
    }
   },
   "outputs": [],
   "source": [
    "N = 10000\n",
    "k = 10"
   ]
  },
  {
   "cell_type": "code",
   "execution_count": 12,
   "metadata": {
    "colab": {
     "base_uri": "https://localhost:8080/",
     "height": 283
    },
    "id": "1zoIFDwj-ltR",
    "outputId": "4df79cf2-58c3-4bf7-a8c6-cab614ac0885",
    "ExecuteTime": {
     "end_time": "2023-04-26T17:59:50.629463Z",
     "start_time": "2023-04-26T17:59:50.566015Z"
    }
   },
   "outputs": [
    {
     "data": {
      "text/plain": "<Figure size 640x480 with 1 Axes>",
      "image/png": "[encoded data removed]"
     },
     "metadata": {},
     "output_type": "display_data"
    }
   ],
   "source": [
    "# убедимся, что умеем генерировать массив из N случайных равномерно распределенных на [0; 1] чисел\n",
    "plt.hist(np.random.random(N));"
   ]
  },
  {
   "cell_type": "code",
   "execution_count": 13,
   "metadata": {
    "colab": {
     "base_uri": "https://localhost:8080/",
     "height": 283
    },
    "id": "goL6wmHM-ltR",
    "outputId": "0cfe384a-f65d-4805-8b0b-9accb4c4f305",
    "ExecuteTime": {
     "end_time": "2023-04-26T17:59:50.716623Z",
     "start_time": "2023-04-26T17:59:50.624457Z"
    }
   },
   "outputs": [
    {
     "data": {
      "text/plain": "<Figure size 640x480 with 1 Axes>",
      "image/png": "[encoded data removed]"
     },
     "metadata": {},
     "output_type": "display_data"
    }
   ],
   "source": [
    "# складываем покоординатно k массивов, получаем массив из N сумм, строим гистограмму\n",
    "uniform_sum = sum(np.random.random(N) for _ in range(k))\n",
    "plt.hist(uniform_sum, bins=100);"
   ]
  },
  {
   "cell_type": "code",
   "execution_count": 14,
   "metadata": {
    "ExecuteTime": {
     "end_time": "2023-04-26T17:59:50.809594Z",
     "start_time": "2023-04-26T17:59:50.719187Z"
    }
   },
   "outputs": [
    {
     "data": {
      "text/plain": "<Figure size 640x480 with 1 Axes>",
      "image/png": "[encoded data removed]"
     },
     "metadata": {},
     "output_type": "display_data"
    }
   ],
   "source": [
    "# а теперь давайте посмотрим на то, как распределено среднее по этим величинам\n",
    "uniform_mean = uniform_sum / k\n",
    "plt.hist(uniform_mean, bins=100)\n",
    "plt.xlim([0, 1]);"
   ]
  },
  {
   "cell_type": "code",
   "execution_count": 15,
   "metadata": {
    "ExecuteTime": {
     "end_time": "2023-04-26T17:59:50.812573Z",
     "start_time": "2023-04-26T17:59:50.810155Z"
    }
   },
   "outputs": [
    {
     "data": {
      "text/plain": "(0.49878449173946565, 0.09227967028022986, 0.09128709291752768)"
     },
     "execution_count": 15,
     "metadata": {},
     "output_type": "execute_result"
    }
   ],
   "source": [
    "np.mean(uniform_mean), np.std(uniform_mean), get_std(k)"
   ]
  },
  {
   "cell_type": "code",
   "execution_count": 16,
   "metadata": {
    "ExecuteTime": {
     "end_time": "2023-04-26T17:59:50.814373Z",
     "start_time": "2023-04-26T17:59:50.813106Z"
    }
   },
   "outputs": [],
   "source": [
    "k = 100"
   ]
  },
  {
   "cell_type": "code",
   "execution_count": 17,
   "metadata": {
    "colab": {
     "base_uri": "https://localhost:8080/",
     "height": 283
    },
    "id": "goL6wmHM-ltR",
    "outputId": "0cfe384a-f65d-4805-8b0b-9accb4c4f305",
    "ExecuteTime": {
     "end_time": "2023-04-26T17:59:50.905841Z",
     "start_time": "2023-04-26T17:59:50.815464Z"
    }
   },
   "outputs": [
    {
     "data": {
      "text/plain": "<Figure size 640x480 with 1 Axes>",
      "image/png": "[encoded data removed]"
     },
     "metadata": {},
     "output_type": "display_data"
    }
   ],
   "source": [
    "uniform_sum = sum(np.random.random(N) for _ in range(k))\n",
    "uniform_mean = uniform_sum / k\n",
    "plt.hist(uniform_mean, bins=100)\n",
    "plt.xlim([0, 1]);"
   ]
  },
  {
   "cell_type": "code",
   "execution_count": 18,
   "metadata": {
    "ExecuteTime": {
     "end_time": "2023-04-26T17:59:50.908663Z",
     "start_time": "2023-04-26T17:59:50.906543Z"
    }
   },
   "outputs": [
    {
     "data": {
      "text/plain": "(0.5001915634347984, 0.02892205738613774, 0.028867513459481287)"
     },
     "execution_count": 18,
     "metadata": {},
     "output_type": "execute_result"
    }
   ],
   "source": [
    "np.mean(uniform_mean), np.std(uniform_mean), get_std(k)"
   ]
  },
  {
   "cell_type": "code",
   "execution_count": 19,
   "metadata": {
    "ExecuteTime": {
     "end_time": "2023-04-26T17:59:50.910408Z",
     "start_time": "2023-04-26T17:59:50.908831Z"
    }
   },
   "outputs": [],
   "source": [
    "k = 1000"
   ]
  },
  {
   "cell_type": "code",
   "execution_count": 20,
   "metadata": {
    "colab": {
     "base_uri": "https://localhost:8080/",
     "height": 283
    },
    "id": "goL6wmHM-ltR",
    "outputId": "0cfe384a-f65d-4805-8b0b-9accb4c4f305",
    "ExecuteTime": {
     "end_time": "2023-04-26T17:59:51.032616Z",
     "start_time": "2023-04-26T17:59:50.910841Z"
    }
   },
   "outputs": [
    {
     "data": {
      "text/plain": "<Figure size 640x480 with 1 Axes>",
      "image/png": "[encoded data removed]"
     },
     "metadata": {},
     "output_type": "display_data"
    }
   ],
   "source": [
    "uniform_sum = sum(np.random.random(N) for _ in range(k))\n",
    "uniform_mean = uniform_sum / k\n",
    "plt.hist(uniform_mean, bins=100)\n",
    "plt.xlim([0, 1]);"
   ]
  },
  {
   "cell_type": "code",
   "execution_count": 21,
   "metadata": {
    "ExecuteTime": {
     "end_time": "2023-04-26T17:59:51.035266Z",
     "start_time": "2023-04-26T17:59:51.032819Z"
    }
   },
   "outputs": [
    {
     "data": {
      "text/plain": "(0.5000325450941279, 0.009145293518300785, 0.009128709291752768)"
     },
     "execution_count": 21,
     "metadata": {},
     "output_type": "execute_result"
    }
   ],
   "source": [
    "np.mean(uniform_mean), np.std(uniform_mean), get_std(k)"
   ]
  },
  {
   "cell_type": "markdown",
   "metadata": {},
   "source": [
    "Эмпирический результат совпал с теоретическим — ура!"
   ]
  },
  {
   "cell_type": "markdown",
   "metadata": {
    "id": "qzinJ6k2-ltS"
   },
   "source": [
    "### 2.2 Формулы для функции и плотности нормального распределения\n",
    "*Теория. Взглянуть мельком.*\n",
    "\n",
    "Функция нормального распределения:\n",
    "\n",
    "$$Ф(x)=\\frac{1}{\\sigma\\sqrt{2\\pi}}\\int\\limits_{-\\infty}^x\\exp\\left(-\\frac{(t-\\mu)^2}{2\\sigma^2}\\right) dt. $$\n",
    "\n",
    "Плотность нормального распределения:\n",
    "\n",
    " $$  f(x) = \\frac{1}{\\sigma\\sqrt{2\\pi}}\\exp\\left(-\\frac{(x-\\mu)^2}{2\\sigma^2}\\right). $$"
   ]
  },
  {
   "cell_type": "markdown",
   "metadata": {
    "id": "hqZghcj1-ltS"
   },
   "source": [
    "### 2.3 Генерирование выборки, графики функций распределения и плотностей, эмпирических и теоретических"
   ]
  },
  {
   "cell_type": "code",
   "execution_count": 22,
   "metadata": {
    "colab": {
     "base_uri": "https://localhost:8080/"
    },
    "id": "RqsNnL1Z-ltT",
    "outputId": "e0dc384e-3bc1-4602-f31d-401df3e18517",
    "ExecuteTime": {
     "end_time": "2023-04-26T17:59:51.038482Z",
     "start_time": "2023-04-26T17:59:51.036258Z"
    }
   },
   "outputs": [
    {
     "data": {
      "text/plain": "array([-0.2976782 , -0.74084866, -1.48889675,  0.37198082, -0.78248553,\n       -0.33806695,  0.34136013,  0.07979595, -0.34976769, -1.17465246])"
     },
     "execution_count": 22,
     "metadata": {},
     "output_type": "execute_result"
    }
   ],
   "source": [
    "mu = 0\n",
    "sigma = 1\n",
    "n = 100\n",
    "\n",
    "# сгенерируем выборку из нормального распределения\n",
    "sample_normal = np.random.normal(mu, sigma, n)\n",
    "\n",
    "# 10 первых значений\n",
    "sample_normal[:10]"
   ]
  },
  {
   "cell_type": "code",
   "execution_count": 23,
   "metadata": {
    "ExecuteTime": {
     "end_time": "2023-04-26T17:59:51.040246Z",
     "start_time": "2023-04-26T17:59:51.038932Z"
    }
   },
   "outputs": [],
   "source": [
    "norm_random_variates = sts.norm(mu, sigma)"
   ]
  },
  {
   "cell_type": "code",
   "execution_count": 24,
   "metadata": {
    "colab": {
     "base_uri": "https://localhost:8080/",
     "height": 297
    },
    "id": "5Cizqtke-ltT",
    "outputId": "374ade4c-fce0-4408-e1a3-75f7949cba1b",
    "ExecuteTime": {
     "end_time": "2023-04-26T17:59:51.112773Z",
     "start_time": "2023-04-26T17:59:51.042709Z"
    }
   },
   "outputs": [
    {
     "data": {
      "text/plain": "<Figure size 640x480 with 1 Axes>",
      "image/png": "[encoded data removed]"
     },
     "metadata": {},
     "output_type": "display_data"
    }
   ],
   "source": [
    "# нарисуем функцию распределения: теоретическую и эмпирическую, составленную по выборке\n",
    "\n",
    "# теоретическая функция распределения cdf - cumulative density function\n",
    "x = np.linspace(-5, 5, 100)\n",
    "cdf = norm_random_variates.cdf(x)\n",
    "plt.plot(x, cdf, label=\"теоретическая Ф(x) \")\n",
    "\n",
    "# 'эмпирическая функция распределения\n",
    "F = ECDF(sample_normal)\n",
    "plt.step(F.x, F.y, label=\"эмпирическая, F(x)\")\n",
    "\n",
    "plt.ylabel(\"$Ф(x)$\")\n",
    "plt.xlabel(\"$x$\")\n",
    "plt.legend(loc=\"upper left\");"
   ]
  },
  {
   "cell_type": "code",
   "execution_count": 25,
   "metadata": {
    "ExecuteTime": {
     "end_time": "2023-04-26T17:59:51.178342Z",
     "start_time": "2023-04-26T17:59:51.114988Z"
    }
   },
   "outputs": [
    {
     "data": {
      "text/plain": "<Figure size 640x480 with 1 Axes>",
      "image/png": "[encoded data removed]"
     },
     "metadata": {},
     "output_type": "display_data"
    }
   ],
   "source": [
    "plt.hist(sample_normal, bins=20, density=True)\n",
    "plt.ylabel(\"частота встречаемости значений\")\n",
    "plt.xlabel(\"$x$\");"
   ]
  },
  {
   "cell_type": "markdown",
   "metadata": {},
   "source": [
    "Возьмем n побольше:"
   ]
  },
  {
   "cell_type": "code",
   "execution_count": 26,
   "metadata": {
    "ExecuteTime": {
     "end_time": "2023-04-26T17:59:51.181668Z",
     "start_time": "2023-04-26T17:59:51.178798Z"
    }
   },
   "outputs": [],
   "source": [
    "n = 100000\n",
    "sample_normal = np.random.normal(mu, sigma, n)"
   ]
  },
  {
   "cell_type": "code",
   "execution_count": 27,
   "metadata": {
    "ExecuteTime": {
     "end_time": "2023-04-26T17:59:51.266301Z",
     "start_time": "2023-04-26T17:59:51.182525Z"
    }
   },
   "outputs": [
    {
     "data": {
      "text/plain": "<Figure size 640x480 with 1 Axes>",
      "image/png": "[encoded data removed]"
     },
     "metadata": {},
     "output_type": "display_data"
    }
   ],
   "source": [
    "# эмпирическая функция распределения\n",
    "F = ECDF(sample_normal)\n",
    "plt.step(F.x, F.y, label=\"эмпирическая, F(x)\")\n",
    "\n",
    "# теоретическая функция распределения cdf — cumulative density function\n",
    "x = np.linspace(-5, 5, 100)\n",
    "cdf = norm_random_variates.cdf(x)\n",
    "plt.plot(x, cdf, label=\"теоретическая Ф(x) \")\n",
    "\n",
    "plt.ylabel(\"$Ф(x)$\")\n",
    "plt.xlabel(\"$x$\")\n",
    "plt.legend(loc=\"upper left\");"
   ]
  },
  {
   "cell_type": "code",
   "execution_count": 28,
   "metadata": {
    "colab": {
     "base_uri": "https://localhost:8080/",
     "height": 297
    },
    "id": "gsjlG6WF-ltT",
    "outputId": "61998024-332e-4a3e-eb4a-0a4f982b934b",
    "ExecuteTime": {
     "end_time": "2023-04-26T17:59:51.400743Z",
     "start_time": "2023-04-26T17:59:51.271811Z"
    }
   },
   "outputs": [
    {
     "data": {
      "text/plain": "<Figure size 640x480 with 1 Axes>",
      "image/png": "[encoded data removed]"
     },
     "metadata": {},
     "output_type": "display_data"
    }
   ],
   "source": [
    "plt.hist(sample_normal, bins=100, density=True)\n",
    "plt.ylabel(\"частота встречаемости значений\")\n",
    "plt.xlabel(\"$x$\");"
   ]
  },
  {
   "cell_type": "markdown",
   "metadata": {
    "id": "sk00A_tW-ltT"
   },
   "source": [
    "*Плотностью распределения* называется производная от функции распределения: $f(x)=F'(x)$."
   ]
  },
  {
   "cell_type": "code",
   "execution_count": 29,
   "metadata": {
    "colab": {
     "base_uri": "https://localhost:8080/",
     "height": 297
    },
    "id": "V_ryK0iU-ltT",
    "outputId": "edfd2913-d1dd-4af1-8969-e3c8ba7b5f3a",
    "ExecuteTime": {
     "end_time": "2023-04-26T17:59:51.859483Z",
     "start_time": "2023-04-26T17:59:51.401446Z"
    }
   },
   "outputs": [
    {
     "data": {
      "text/plain": "<Figure size 640x480 with 1 Axes>",
      "image/png": "[encoded data removed]"
     },
     "metadata": {},
     "output_type": "display_data"
    }
   ],
   "source": [
    "# эмпирическая, построенная по выборке с помощью ядерного сглаживания — KDE, Kernel Density Estimation\n",
    "df = pd.DataFrame(sample_normal, columns=[\"KDE\"])\n",
    "ax = df.plot(kind=\"density\")\n",
    "\n",
    "# теоретическая плотность — pdf, probability density function\n",
    "x = np.linspace(-5, 5, 100)\n",
    "pdf = norm_random_variates.pdf(x)\n",
    "plt.plot(x, pdf, label=\"теоретическая плотность распределения\", alpha=0.5)\n",
    "plt.legend()\n",
    "plt.ylabel(\"$f(x)$\")\n",
    "plt.xlabel(\"$x$\");"
   ]
  },
  {
   "cell_type": "markdown",
   "metadata": {
    "id": "HDM5122Y-ltT"
   },
   "source": [
    "## 3. Нахождение доверительных интервалов\n",
    "\n",
    "### 3.1 Упражнения и теория\n",
    "\n",
    "Предварительно сделаем несколько упражнений.\n",
    "\n",
    "*Упр. 1*\n",
    "\n",
    "Найдем, левее какого числа находится 95% значений нормально распределенной случайной величины с $\\mu=0$ и $\\sigma=1$, т.е. 95-ый квантиль."
   ]
  },
  {
   "cell_type": "code",
   "execution_count": 30,
   "metadata": {
    "colab": {
     "base_uri": "https://localhost:8080/"
    },
    "id": "gcM33qbj-ltU",
    "outputId": "ea9a1d31-0593-4673-9b3e-f739713f82d2",
    "ExecuteTime": {
     "end_time": "2023-04-26T17:59:51.862108Z",
     "start_time": "2023-04-26T17:59:51.860075Z"
    }
   },
   "outputs": [
    {
     "data": {
      "text/plain": "1.6448536269514722"
     },
     "execution_count": 30,
     "metadata": {},
     "output_type": "execute_result"
    }
   ],
   "source": [
    "mu = 0\n",
    "sigma = 1\n",
    "sts.norm(mu, sigma).ppf(0.95)"
   ]
  },
  {
   "cell_type": "markdown",
   "metadata": {
    "id": "qfP7k_ln-ltU"
   },
   "source": [
    "*Упр. 2*\n",
    "\n",
    "Выполним обратную операцию, убедимся, что вероятность принять значения, меньшие чем 1.6448536269514722, равна 95%.\n"
   ]
  },
  {
   "cell_type": "code",
   "execution_count": 31,
   "metadata": {
    "colab": {
     "base_uri": "https://localhost:8080/"
    },
    "id": "27ur6Cp--ltU",
    "outputId": "570f1591-29dc-49b9-a4ce-c255a0c20dd3",
    "ExecuteTime": {
     "end_time": "2023-04-26T17:59:51.865031Z",
     "start_time": "2023-04-26T17:59:51.862979Z"
    }
   },
   "outputs": [
    {
     "data": {
      "text/plain": "0.95"
     },
     "execution_count": 31,
     "metadata": {},
     "output_type": "execute_result"
    }
   ],
   "source": [
    "sts.norm(mu, sigma).cdf(1.644853626951472)"
   ]
  },
  {
   "cell_type": "markdown",
   "metadata": {
    "id": "9tq7k135-ltU"
   },
   "source": [
    "*Упр. 3*\n",
    "\n",
    "Пользуясь формулой $P(a\\le X<b)=F(b)-F(a)$ определим вероятность того, что нормально распределенная случайная величина с $\\mu=0$ и $\\sigma=1$ примет значения $x \\in [2;3]$ "
   ]
  },
  {
   "cell_type": "code",
   "execution_count": 32,
   "metadata": {
    "colab": {
     "base_uri": "https://localhost:8080/"
    },
    "id": "IPHQDCwC-ltU",
    "outputId": "cb67b7f0-c353-44eb-ae58-fa790ae69857",
    "ExecuteTime": {
     "end_time": "2023-04-26T17:59:51.868010Z",
     "start_time": "2023-04-26T17:59:51.866162Z"
    }
   },
   "outputs": [
    {
     "name": "stdout",
     "output_type": "stream",
     "text": [
      "0.021400233916549105\n"
     ]
    }
   ],
   "source": [
    "P = sts.norm(mu, sigma).cdf(3) - sts.norm(mu, sigma).cdf(2)\n",
    "print(P)"
   ]
  },
  {
   "cell_type": "markdown",
   "metadata": {
    "id": "IXiHPkHP-ltV"
   },
   "source": [
    "На практике приходится решать и обратную задачу: находить, в каких границах могут находиться с заданной вероятностью (\"надежностью\") значения случайной величины."
   ]
  },
  {
   "cell_type": "markdown",
   "metadata": {
    "id": "8dQsIOIS-ltV"
   },
   "source": [
    "**Доверительным** называют интервал, который покрывает неизвестный параметр с заданной надёжностью. В дальнейшем нам нужно будет находить доверительный интервал для математического ожидания нормально распределенной случайной величины с надежностью $\\gamma$.\n",
    "\n",
    "**Теория.**\n",
    "\n",
    "\n",
    "В теории при небольших объемах данных такой интервал можно найти из формулы:\n",
    "$${P}\\left( {\\bar X}-t_{\\frac{1+\\gamma}{2},n-1}\\cdot \\frac{S}{\\sqrt{n}}\\le \\mu\\le {\\bar X}+t_{\\frac{1+\\gamma}{2},n-1}\\cdot \\frac{S}{\\sqrt{n}}\\right)=\\gamma, $$\n",
    "где $t_{\\alpha,n-1}$ — $\\alpha$-квантили распределения Стьюдента, т.е. распределения случайой величины $T=\\frac{{\\bar X}-\\mu}{S\\,/\\,\\sqrt{n}}$, а $S$ — несмещённое выборочное стандартное отклонение.\n",
    "\n",
    "При больших объемах и/или известном стандартном отклонении математического ожидания вместо распределения Стьюдента используется нормальное распределение, и\n",
    "\n",
    "$${P}\\left( {\\bar X}-z_{\\frac{1+\\gamma}{2}}\\cdot \\frac{\\sigma}{\\sqrt{n}}\\le \\mu\\le {\\bar X}+z_{\\frac{1+\\gamma}{2}}\\cdot \\frac{\\sigma}{\\sqrt{n}}\\right)=\\gamma, $$\n",
    "где $z_{\\alpha}$ — $\\alpha$-квантили стандартного нормального распределения, т.е. распределения случайной величины $Z=\\frac{{\\bar X}-\\mu}{\\sigma\\,/\\,\\sqrt{n}}$, а $S$ — известное стандартное отклонение."
   ]
  },
  {
   "cell_type": "markdown",
   "metadata": {},
   "source": [
    "Возьмем выборку из распределения бернулли:"
   ]
  },
  {
   "cell_type": "code",
   "execution_count": 33,
   "metadata": {
    "ExecuteTime": {
     "end_time": "2023-04-26T17:59:51.869838Z",
     "start_time": "2023-04-26T17:59:51.868567Z"
    }
   },
   "outputs": [],
   "source": [
    "random_ber = np.random.randint(2, size=50)"
   ]
  },
  {
   "cell_type": "code",
   "execution_count": 34,
   "metadata": {
    "ExecuteTime": {
     "end_time": "2023-04-26T17:59:51.872374Z",
     "start_time": "2023-04-26T17:59:51.870635Z"
    }
   },
   "outputs": [
    {
     "data": {
      "text/plain": "array([1, 1, 0, 0, 0, 1, 1, 0, 0, 1, 1, 0, 1, 1, 0, 0, 0, 1, 1, 0, 0, 1,\n       0, 0, 1, 0, 1, 0, 1, 1, 1, 1, 1, 0, 1, 0, 0, 1, 1, 0, 1, 0, 1, 1,\n       0, 0, 1, 1, 1, 1])"
     },
     "execution_count": 34,
     "metadata": {},
     "output_type": "execute_result"
    }
   ],
   "source": [
    "random_ber"
   ]
  },
  {
   "cell_type": "markdown",
   "metadata": {},
   "source": [
    "### 3.2 Доверительный интервал на основе нормального распределения\n",
    "\n",
    "$$\\hat{p}\\pm z_{1-\\frac{\\alpha}{2}} \\sqrt{\\frac{\\hat{p}\\left(1-\\hat{p}\\right)}{n}}$$"
   ]
  },
  {
   "cell_type": "code",
   "execution_count": 35,
   "metadata": {
    "ExecuteTime": {
     "end_time": "2023-04-26T17:59:51.874941Z",
     "start_time": "2023-04-26T17:59:51.872547Z"
    }
   },
   "outputs": [],
   "source": [
    "from statsmodels.stats.proportion import proportion_confint"
   ]
  },
  {
   "cell_type": "code",
   "execution_count": 36,
   "metadata": {
    "ExecuteTime": {
     "end_time": "2023-04-26T17:59:51.877769Z",
     "start_time": "2023-04-26T17:59:51.876278Z"
    }
   },
   "outputs": [],
   "source": [
    "def normal_int(random_ber: np.array):\n",
    "    s = random_ber.sum()\n",
    "    n = len(random_ber)\n",
    "\n",
    "    normal_interval = proportion_confint(s, n, method=\"normal\", alpha=0.05)\n",
    "    return np.array(normal_interval)\n",
    "\n",
    "\n",
    "def normal_int_custom(random_ber: np.array):\n",
    "    s = random_ber.sum()\n",
    "    n = len(random_ber)\n",
    "    z_alpha = 1.959964\n",
    "\n",
    "    p_hat = s / n\n",
    "    half_int = z_alpha * np.sqrt(p_hat * (1 - p_hat) / n)\n",
    "    return np.array([p_hat - half_int, p_hat + half_int])"
   ]
  },
  {
   "cell_type": "code",
   "execution_count": 37,
   "metadata": {
    "ExecuteTime": {
     "end_time": "2023-04-26T17:59:51.948866Z",
     "start_time": "2023-04-26T17:59:51.878485Z"
    }
   },
   "outputs": [],
   "source": [
    "assert np.allclose(normal_int(random_ber), normal_int_custom(random_ber))"
   ]
  },
  {
   "cell_type": "code",
   "execution_count": 38,
   "metadata": {
    "ExecuteTime": {
     "end_time": "2023-04-26T17:59:51.949146Z",
     "start_time": "2023-04-26T17:59:51.880886Z"
    }
   },
   "outputs": [
    {
     "name": "stdout",
     "output_type": "stream",
     "text": [
      "[0.19010248 0.80989752]\n",
      "[0.31360244 0.50639756]\n",
      "[0.4640118 0.5259882]\n",
      "[0.48790028 0.50749972]\n"
     ]
    }
   ],
   "source": [
    "for size in [10, 100, 1000, 10000]:\n",
    "    random_ber = np.random.randint(2, size=size)\n",
    "    print(normal_int(random_ber))"
   ]
  },
  {
   "cell_type": "markdown",
   "metadata": {},
   "source": [
    "### 3.3 Доверительный интервал Уилсона (лучше, для средних значений близких к 0 и 1)\n",
    "\n",
    "$$\\frac1{ 1 + \\frac{z^2}{n} } \\left( \\hat{p} + \\frac{z^2}{2n} \\pm z \\sqrt{ \\frac{ \\hat{p}\\left(1-\\hat{p}\\right)}{n} + \\frac{\n",
    "z^2}{4n^2} } \\right), \\;\\; z \\equiv z_{1-\\frac{\\alpha}{2}}$$ "
   ]
  },
  {
   "cell_type": "code",
   "execution_count": 39,
   "metadata": {
    "ExecuteTime": {
     "end_time": "2023-04-26T17:59:51.949210Z",
     "start_time": "2023-04-26T17:59:51.883292Z"
    }
   },
   "outputs": [],
   "source": [
    "p = 0.9\n",
    "random_ber = np.random.choice(2, size=1000, p=[1.0 - p, p])"
   ]
  },
  {
   "cell_type": "code",
   "execution_count": 40,
   "metadata": {
    "ExecuteTime": {
     "end_time": "2023-04-26T17:59:51.949265Z",
     "start_time": "2023-04-26T17:59:51.886129Z"
    }
   },
   "outputs": [],
   "source": [
    "def wilson_int(random_ber):\n",
    "    s = random_ber.sum()\n",
    "    n = len(random_ber)\n",
    "\n",
    "    normal_interval = proportion_confint(s, n, method=\"wilson\", alpha=0.05)\n",
    "    return np.array(normal_interval)\n",
    "\n",
    "\n",
    "def wilson_int_custom(random_ber):\n",
    "    s = random_ber.sum()\n",
    "    n = len(random_ber)\n",
    "    z_alpha = 1.959964\n",
    "\n",
    "    p_hat = s / n  # your code here\n",
    "\n",
    "    half_int = z_alpha * np.sqrt(p_hat * (1 - p_hat) / n + z_alpha / (4 * n * n))\n",
    "\n",
    "    return (\n",
    "        1\n",
    "        / (1 + z_alpha * z_alpha / n)\n",
    "        * np.array(\n",
    "            [\n",
    "                p_hat + z_alpha**2 / (2 * n) - half_int,\n",
    "                p_hat + z_alpha**2 / (2 * n) + half_int,\n",
    "            ]\n",
    "        )\n",
    "    )"
   ]
  },
  {
   "cell_type": "code",
   "execution_count": 41,
   "metadata": {
    "ExecuteTime": {
     "end_time": "2023-04-26T17:59:51.949392Z",
     "start_time": "2023-04-26T17:59:51.892441Z"
    }
   },
   "outputs": [
    {
     "name": "stdout",
     "output_type": "stream",
     "text": [
      "[0.8820053  0.91891799]\n",
      "[0.88205394 0.91886935]\n"
     ]
    }
   ],
   "source": [
    "print(wilson_int(random_ber))\n",
    "print(wilson_int_custom(random_ber))"
   ]
  },
  {
   "cell_type": "code",
   "execution_count": 42,
   "metadata": {
    "ExecuteTime": {
     "end_time": "2023-04-26T17:59:51.949442Z",
     "start_time": "2023-04-26T17:59:51.894427Z"
    }
   },
   "outputs": [],
   "source": [
    "assert np.allclose(wilson_int(random_ber), wilson_int_custom(random_ber), atol=1e-4)"
   ]
  },
  {
   "cell_type": "code",
   "execution_count": 43,
   "metadata": {
    "ExecuteTime": {
     "end_time": "2023-04-26T17:59:51.949562Z",
     "start_time": "2023-04-26T17:59:51.896836Z"
    }
   },
   "outputs": [
    {
     "name": "stdout",
     "output_type": "stream",
     "text": [
      "[0.59584997 0.98212379] [0.71406149 1.        ]\n",
      "[0.75579731 0.89904712] [0.76814653 0.91185347]\n",
      "[0.86587845 0.90515964] [0.86737774 0.90662226]\n",
      "[0.88935167 0.90134459] [0.88950431 0.90149569]\n"
     ]
    }
   ],
   "source": [
    "p = 0.9\n",
    "\n",
    "for size in [10, 100, 1000, 10000]:\n",
    "    random_ber = np.random.choice(2, size=size, p=[1.0 - p, p])\n",
    "    print(wilson_int(random_ber), normal_int(random_ber))"
   ]
  },
  {
   "cell_type": "markdown",
   "metadata": {},
   "source": [
    "[Прикольная визуализация](https://rpsychologist.com/d3/ci/), если еще хочется посмотреть на то, что такое доверительный интервал."
   ]
  },
  {
   "cell_type": "markdown",
   "metadata": {},
   "source": [
    "## 4. Проверка гипотез\n",
    "\n",
    "P-value\n",
    "![title](https://upload.wikimedia.org/wikipedia/commons/thumb/3/3a/P-value_in_statistical_significance_testing.svg/474px-P-value_in_statistical_significance_testing.svg.png)\n",
    "\n",
    "### 4.1 Критерии Стьюдента (T-тест)\n",
    "\n",
    "Работает для тех значений, которые распределены нормально\n",
    "\n",
    "Нужно проверить на нормальность:\n",
    "- q-q plot\n",
    "- Критерий Шапиро-Уилка: (гипотеза о нормальности распределения)"
   ]
  },
  {
   "cell_type": "code",
   "execution_count": 44,
   "metadata": {
    "ExecuteTime": {
     "end_time": "2023-04-26T17:59:51.950041Z",
     "start_time": "2023-04-26T17:59:51.900137Z"
    }
   },
   "outputs": [],
   "source": [
    "test_norm = np.random.normal(size=5000)\n",
    "test_exp = np.random.exponential(size=5000)"
   ]
  },
  {
   "cell_type": "code",
   "execution_count": 45,
   "metadata": {
    "ExecuteTime": {
     "end_time": "2023-04-26T17:59:52.033076Z",
     "start_time": "2023-04-26T17:59:51.903797Z"
    }
   },
   "outputs": [
    {
     "data": {
      "text/plain": "<Figure size 640x480 with 1 Axes>",
      "image/png": "[encoded data removed]"
     },
     "metadata": {},
     "output_type": "display_data"
    }
   ],
   "source": [
    "plt.hist(test_norm, bins=100);"
   ]
  },
  {
   "cell_type": "code",
   "execution_count": 46,
   "metadata": {
    "ExecuteTime": {
     "end_time": "2023-04-26T17:59:52.095569Z",
     "start_time": "2023-04-26T17:59:52.004044Z"
    }
   },
   "outputs": [
    {
     "data": {
      "text/plain": "<Figure size 640x480 with 1 Axes>",
      "image/png": "[encoded data removed]"
     },
     "metadata": {},
     "output_type": "display_data"
    }
   ],
   "source": [
    "plt.hist(test_exp, bins=100);"
   ]
  },
  {
   "cell_type": "code",
   "execution_count": 47,
   "metadata": {
    "ExecuteTime": {
     "end_time": "2023-04-26T17:59:52.176248Z",
     "start_time": "2023-04-26T17:59:52.096042Z"
    }
   },
   "outputs": [
    {
     "data": {
      "text/plain": "<Figure size 640x480 with 1 Axes>",
      "image/png": "[encoded data removed]"
     },
     "metadata": {},
     "output_type": "display_data"
    }
   ],
   "source": [
    "stats.probplot(test_norm, dist=\"norm\", plot=pylab);"
   ]
  },
  {
   "cell_type": "code",
   "execution_count": 48,
   "metadata": {
    "ExecuteTime": {
     "end_time": "2023-04-26T17:59:52.249089Z",
     "start_time": "2023-04-26T17:59:52.176353Z"
    }
   },
   "outputs": [
    {
     "data": {
      "text/plain": "<Figure size 640x480 with 1 Axes>",
      "image/png": "[encoded data removed]"
     },
     "metadata": {},
     "output_type": "display_data"
    }
   ],
   "source": [
    "stats.probplot(test_exp, dist=\"norm\", plot=pylab);"
   ]
  },
  {
   "cell_type": "code",
   "execution_count": 49,
   "metadata": {
    "ExecuteTime": {
     "end_time": "2023-04-26T17:59:52.251556Z",
     "start_time": "2023-04-26T17:59:52.249213Z"
    }
   },
   "outputs": [
    {
     "name": "stdout",
     "output_type": "stream",
     "text": [
      "Shapiro-Wilk normality test, W-statistic: 0.999734, p-value: 0.804801\n"
     ]
    }
   ],
   "source": [
    "print(\n",
    "    f\"Shapiro-Wilk normality test, W-statistic: %f, p-value: %f\"\n",
    "    % stats.shapiro(test_norm)\n",
    ")"
   ]
  },
  {
   "cell_type": "code",
   "execution_count": 50,
   "metadata": {
    "ExecuteTime": {
     "end_time": "2023-04-26T17:59:52.253894Z",
     "start_time": "2023-04-26T17:59:52.252024Z"
    }
   },
   "outputs": [
    {
     "name": "stdout",
     "output_type": "stream",
     "text": [
      "Shapiro-Wilk normality test, W-statistic: 0.821864, p-value: 0.000000\n"
     ]
    }
   ],
   "source": [
    "print(\n",
    "    f\"Shapiro-Wilk normality test, W-statistic: %f, p-value: %f\"\n",
    "    % stats.shapiro(test_exp)\n",
    ")"
   ]
  },
  {
   "cell_type": "markdown",
   "metadata": {},
   "source": [
    "#### 4.2 Одновыборочный критерий Стьюдента\n",
    "\n",
    "$H_0\\colon$ среднее значение некоторой выборки равняется заданному числу $m$,\n",
    "\n",
    "$H_1\\colon$ не равно.\n",
    "\n",
    "Критерий:\n",
    "\n",
    "$$t = \\frac{\\bar{X} - m}{s/\\sqrt{n}}$$ \n",
    "\n",
    "$$s^2 = \\frac{1}{n-1}\\sum_{i}^{n} (X_i - \\bar{X})^2,$$\n",
    "\n",
    "где $\\bar{X}$ — среднее значение случайной величины $X$; $s$ — несмещенная оценка дисперсии; $n$ — размер выборки. При нулевой гипотезе эта статистика имеет распределение Стьюдента с $(n-1)$ степенями свободы.\n",
    "\n",
    "Для полученного значения критерия вычисляем p-value $p$:\n",
    "- Если $p < \\alpha$, то гипотеза $H_0$ отвергается в пользу $H_1$\n",
    "- Если $p \\ge \\alpha$, то принимается гипотеза $H_0$\n",
    "\n",
    "Обычно пороговое значение $\\alpha=0.05$."
   ]
  },
  {
   "cell_type": "code",
   "execution_count": 51,
   "metadata": {
    "ExecuteTime": {
     "end_time": "2023-04-26T17:59:52.256666Z",
     "start_time": "2023-04-26T17:59:52.254512Z"
    }
   },
   "outputs": [
    {
     "data": {
      "text/plain": "TtestResult(statistic=0.09943459523937705, pvalue=0.9207972028614158, df=4999)"
     },
     "execution_count": 51,
     "metadata": {},
     "output_type": "execute_result"
    }
   ],
   "source": [
    "stats.ttest_1samp(test_norm, 0.02)"
   ]
  },
  {
   "cell_type": "code",
   "execution_count": 52,
   "metadata": {
    "ExecuteTime": {
     "end_time": "2023-04-26T17:59:52.259048Z",
     "start_time": "2023-04-26T17:59:52.257075Z"
    }
   },
   "outputs": [
    {
     "name": "stdout",
     "output_type": "stream",
     "text": [
      "95% confidence interval: [-0.006602, 0.049446]\n"
     ]
    }
   ],
   "source": [
    "print(\"95%% confidence interval: [%f, %f]\" % zconfint(test_norm))"
   ]
  },
  {
   "cell_type": "code",
   "execution_count": 53,
   "metadata": {
    "ExecuteTime": {
     "end_time": "2023-04-26T17:59:52.261989Z",
     "start_time": "2023-04-26T17:59:52.259596Z"
    }
   },
   "outputs": [
    {
     "data": {
      "text/plain": "TtestResult(statistic=-1.9987101053219793, pvalue=0.0456937845767527, df=4999)"
     },
     "execution_count": 53,
     "metadata": {},
     "output_type": "execute_result"
    }
   ],
   "source": [
    "stats.ttest_1samp(test_norm, 0.05)"
   ]
  },
  {
   "cell_type": "markdown",
   "metadata": {},
   "source": [
    "#### 4.1.2 Двувыборочный критерий Стьюдента\n",
    "\n",
    "$H_0\\colon$ средние значения двух выборок одинаковы\n",
    "\n",
    "$H_1\\colon$ не одинаковы.\n",
    "\n",
    "Рассмотрим разность средних значений двух выборок $\\bar{X}_1$ и $\\bar{X}_2$:\n",
    "\n",
    "$$\\Delta = \\bar{X}_1 - \\bar{X}_2$$\n",
    "\n",
    "Дисперсия разности равна:\n",
    "\n",
    "$$s^2_{\\Delta} = \\frac{s_1^{2}}{n_1} + \\frac{s_2^{2}}{n_2}$$ \n",
    "\n",
    "где\n",
    "\n",
    "$$s^2 = \\frac{1}{n-1}\\sum_{i}^{n} (X_i - \\bar{X})^2$$ \n",
    "\n",
    "\n",
    "Двувыборочный критерий Стьюдента:\n",
    "\n",
    "$$t = \\frac{\\Delta}{s_{\\Delta}},$$\n",
    "\n",
    "где $\\bar{X}$ — среднее значение случайной величины $X$; $s$ — несмещенная оценка дисперсии; $n$ — размер выборки. При нулевой гипотезе и $s_1 = s_2$ эта статистика имеет распределение Стьюдента с $(n_1 + n_2 - 2)$ степенями свободы.\n",
    "\n",
    "Для полученного значения критерия вычисляем p-value $p$:\n",
    "- Если $p < \\alpha$, то гипотеза $H_0$ отвергается в пользу $H_1$\n",
    "- Если $p \\ge \\alpha$, то принимается гипотеза $H_0$\n",
    "\n",
    "Обычно пороговое значение $\\alpha=0.05$."
   ]
  },
  {
   "cell_type": "code",
   "execution_count": 54,
   "metadata": {
    "ExecuteTime": {
     "end_time": "2023-04-26T17:59:52.263976Z",
     "start_time": "2023-04-26T17:59:52.262393Z"
    }
   },
   "outputs": [],
   "source": [
    "test_a = np.random.normal(loc=0.05, size=10000)\n",
    "test_b = np.random.normal(loc=0.0, size=10000)"
   ]
  },
  {
   "cell_type": "code",
   "execution_count": 55,
   "metadata": {
    "ExecuteTime": {
     "end_time": "2023-04-26T17:59:52.384231Z",
     "start_time": "2023-04-26T17:59:52.267763Z"
    }
   },
   "outputs": [
    {
     "data": {
      "text/plain": "<Figure size 640x480 with 1 Axes>",
      "image/png": "[encoded data removed]"
     },
     "metadata": {},
     "output_type": "display_data"
    }
   ],
   "source": [
    "plt.hist(test_a, bins=100, alpha=0.3)\n",
    "plt.hist(test_b, bins=100, alpha=0.3)\n",
    "plt.show()"
   ]
  },
  {
   "cell_type": "code",
   "execution_count": 56,
   "metadata": {
    "ExecuteTime": {
     "end_time": "2023-04-26T17:59:52.385493Z",
     "start_time": "2023-04-26T17:59:52.382932Z"
    }
   },
   "outputs": [
    {
     "name": "stdout",
     "output_type": "stream",
     "text": [
      "95% confidence interval for a: [0.027390, 0.066465]\n",
      "95% confidence interval for b: [-0.013078, 0.025950]\n"
     ]
    }
   ],
   "source": [
    "print(\"95%% confidence interval for a: [%f, %f]\" % zconfint(test_a))\n",
    "print(\"95%% confidence interval for b: [%f, %f]\" % zconfint(test_b))"
   ]
  },
  {
   "cell_type": "code",
   "execution_count": 57,
   "metadata": {
    "ExecuteTime": {
     "end_time": "2023-04-26T17:59:52.387904Z",
     "start_time": "2023-04-26T17:59:52.385236Z"
    }
   },
   "outputs": [
    {
     "data": {
      "text/plain": "Ttest_indResult(statistic=2.8739992858343615, pvalue=0.00405736942176802)"
     },
     "execution_count": 57,
     "metadata": {},
     "output_type": "execute_result"
    }
   ],
   "source": [
    "scipy.stats.ttest_ind(test_a, test_b, equal_var=False)"
   ]
  },
  {
   "cell_type": "markdown",
   "metadata": {},
   "source": [
    "#### 4.1.2 Двувыборочный критерий Стьюдента для зависимых выборок\n",
    "$H_0\\colon$ средние значения двух выборок одинаковы\n",
    "\n",
    "$H_1\\colon$ не одинаковы.\n",
    "\n",
    "Критерий:\n",
    "\n",
    "$$t = \\frac{M_d}{s_d/\\sqrt{n}},$$\n",
    "\n",
    "где $M_d$ — среднее значение случайной величины $d = X_1 - X_2$; $s_d$ — несмещенная оценка дисперсии это случайной величины; $n$ — размер выборки. При нулевой гипотезе эта статистика имеет распределение Стьюдента с $(n-1)$ степенями свободы.\n",
    "\n",
    "Для полученного значения критерия вычисляем p-value $p$:\n",
    "- Если $p < \\alpha$, то гипотеза $H_0$ отвергается в пользу $H_1$\n",
    "- Если $p \\ge \\alpha$, то принимается гипотеза $H_0$\n",
    "\n",
    "Обычно пороговое значение $\\alpha=0.05$."
   ]
  },
  {
   "cell_type": "code",
   "execution_count": 58,
   "metadata": {
    "ExecuteTime": {
     "end_time": "2023-04-26T17:59:52.393610Z",
     "start_time": "2023-04-26T17:59:52.387987Z"
    }
   },
   "outputs": [],
   "source": [
    "SIZE = 1000"
   ]
  },
  {
   "cell_type": "code",
   "execution_count": 59,
   "metadata": {
    "ExecuteTime": {
     "end_time": "2023-04-26T17:59:52.393712Z",
     "start_time": "2023-04-26T17:59:52.390469Z"
    }
   },
   "outputs": [],
   "source": [
    "test_ab = np.random.normal(size=SIZE)\n",
    "test_a = test_ab + np.random.normal(loc=0.4, size=SIZE)\n",
    "test_b = test_ab + np.random.normal(loc=0.5, size=SIZE)"
   ]
  },
  {
   "cell_type": "code",
   "execution_count": 60,
   "metadata": {
    "ExecuteTime": {
     "end_time": "2023-04-26T17:59:52.477854Z",
     "start_time": "2023-04-26T17:59:52.392528Z"
    }
   },
   "outputs": [
    {
     "data": {
      "text/plain": "<Figure size 640x480 with 1 Axes>",
      "image/png": "[encoded data removed]"
     },
     "metadata": {},
     "output_type": "display_data"
    }
   ],
   "source": [
    "mean_list = test_a - test_b\n",
    "plt.hist(mean_list, bins=100, alpha=0.3)\n",
    "plt.show()"
   ]
  },
  {
   "cell_type": "code",
   "execution_count": 61,
   "metadata": {
    "ExecuteTime": {
     "end_time": "2023-04-26T17:59:52.482728Z",
     "start_time": "2023-04-26T17:59:52.478401Z"
    }
   },
   "outputs": [
    {
     "data": {
      "text/plain": "Ttest_indResult(statistic=-1.7167271983339023, pvalue=0.08618401792352338)"
     },
     "execution_count": 61,
     "metadata": {},
     "output_type": "execute_result"
    }
   ],
   "source": [
    "scipy.stats.ttest_ind(test_a, test_b, equal_var=False)"
   ]
  },
  {
   "cell_type": "code",
   "execution_count": 62,
   "metadata": {
    "ExecuteTime": {
     "end_time": "2023-04-26T17:59:52.487187Z",
     "start_time": "2023-04-26T17:59:52.481460Z"
    }
   },
   "outputs": [
    {
     "data": {
      "text/plain": "TtestResult(statistic=-2.4772986742338077, pvalue=0.013402611072617143, df=999)"
     },
     "execution_count": 62,
     "metadata": {},
     "output_type": "execute_result"
    }
   ],
   "source": [
    "stats.ttest_rel(test_a, test_b)"
   ]
  },
  {
   "cell_type": "code",
   "execution_count": 63,
   "metadata": {
    "ExecuteTime": {
     "end_time": "2023-04-26T17:59:52.487385Z",
     "start_time": "2023-04-26T17:59:52.484281Z"
    }
   },
   "outputs": [
    {
     "name": "stdout",
     "output_type": "stream",
     "text": [
      "95% confidence interval: [-0.202456, -0.023483]\n"
     ]
    }
   ],
   "source": [
    "print(\"95%% confidence interval: [%f, %f]\" % DescrStatsW(mean_list).tconfint_mean())"
   ]
  },
  {
   "cell_type": "markdown",
   "metadata": {},
   "source": [
    "### 4.2 Непараметрические криетрии\n",
    "\n",
    "Используются, если выборки распределены ненормально\n",
    "\n",
    "### 4.2.1 Двувыборочный непараметрический критерий для независимых выборок\n",
    "$H_0\\colon$ средние значения двух выборок одинаковы\n",
    "\n",
    "$H_1\\colon$  не одинаковы.\n",
    "\n",
    "### 4.2.2 Ранговый критерий Манна-Уитни\n",
    "\n",
    "- Собираем наблюдения в одну выборку с $n = n_1 + n_2$ наблюдениями.\n",
    "- Ранжируем наблюдения. Считаем сумму рангов отдельно для каждой группы: $R_x$ и $R_y$.\n",
    "- Считаем статистики:\n",
    "\n",
    "$$U_x = R_x - \\frac{n_1(n_1+1)}{2}$$\n",
    "$$U_y = R_y - \\frac{n_2(n_2+1)}{2}$$\n",
    "$$U = \\min(U_x, U_y)$$\n",
    "\n",
    "- Для полученного значения критерия вычисляем p-value $p$:\n",
    "    - Если $p < \\alpha$, то гипотеза $H_0$ отвергается в пользу $H_1$\n",
    "    - Если $p \\ge \\alpha$, то принимается гипотеза $H_0$\n",
    "\n",
    "Обычно пороговое значение $\\alpha=0.05$."
   ]
  },
  {
   "cell_type": "code",
   "execution_count": 64,
   "metadata": {
    "ExecuteTime": {
     "end_time": "2023-04-26T17:59:52.488450Z",
     "start_time": "2023-04-26T17:59:52.486698Z"
    }
   },
   "outputs": [],
   "source": [
    "np.random.seed(42)\n",
    "N = 10\n",
    "\n",
    "test_a = np.random.beta(2.0, 2.0, size=N)\n",
    "test_b = np.random.beta(2.0, 3.0, size=N)"
   ]
  },
  {
   "cell_type": "code",
   "execution_count": 65,
   "metadata": {
    "ExecuteTime": {
     "end_time": "2023-04-26T17:59:52.492877Z",
     "start_time": "2023-04-26T17:59:52.488910Z"
    }
   },
   "outputs": [
    {
     "data": {
      "text/plain": "(0.5472312733236799, 0.36687490750463303)"
     },
     "execution_count": 65,
     "metadata": {},
     "output_type": "execute_result"
    }
   ],
   "source": [
    "test_a.mean(), test_b.mean()"
   ]
  },
  {
   "cell_type": "code",
   "execution_count": 66,
   "metadata": {
    "ExecuteTime": {
     "end_time": "2023-04-26T17:59:52.645419Z",
     "start_time": "2023-04-26T17:59:52.497258Z"
    }
   },
   "outputs": [
    {
     "data": {
      "text/plain": "<Figure size 640x480 with 1 Axes>",
      "image/png": "[encoded data removed]"
     },
     "metadata": {},
     "output_type": "display_data"
    }
   ],
   "source": [
    "plt.hist(test_a, bins=100, alpha=0.6)\n",
    "plt.hist(test_b, bins=100, alpha=0.6)\n",
    "plt.show()"
   ]
  },
  {
   "cell_type": "code",
   "execution_count": 67,
   "metadata": {
    "ExecuteTime": {
     "end_time": "2023-04-26T17:59:52.648736Z",
     "start_time": "2023-04-26T17:59:52.646197Z"
    }
   },
   "outputs": [
    {
     "data": {
      "text/plain": "Ttest_indResult(statistic=2.0495584680258787, pvalue=0.055675834335877854)"
     },
     "execution_count": 67,
     "metadata": {},
     "output_type": "execute_result"
    }
   ],
   "source": [
    "scipy.stats.ttest_ind(test_a, test_b, equal_var=False)"
   ]
  },
  {
   "cell_type": "code",
   "execution_count": 68,
   "metadata": {
    "ExecuteTime": {
     "end_time": "2023-04-26T17:59:52.661479Z",
     "start_time": "2023-04-26T17:59:52.648930Z"
    }
   },
   "outputs": [
    {
     "data": {
      "text/plain": "MannwhitneyuResult(statistic=74.0, pvalue=0.07566157214388704)"
     },
     "execution_count": 68,
     "metadata": {},
     "output_type": "execute_result"
    }
   ],
   "source": [
    "stats.mannwhitneyu(test_a, test_b)"
   ]
  },
  {
   "cell_type": "code",
   "execution_count": 69,
   "metadata": {
    "ExecuteTime": {
     "end_time": "2023-04-26T17:59:52.661668Z",
     "start_time": "2023-04-26T17:59:52.652284Z"
    }
   },
   "outputs": [
    {
     "name": "stdout",
     "output_type": "stream",
     "text": [
      "95% confidence interval for the mean test_a: [0.415666, 0.678797]\n",
      "95% confidence interval for the mean test_b: [0.255353, 0.478397]\n"
     ]
    }
   ],
   "source": [
    "print(\"95%% confidence interval for the mean test_a: [%f, %f]\" % zconfint(test_a))\n",
    "print(\"95%% confidence interval for the mean test_b: [%f, %f]\" % zconfint(test_b))"
   ]
  },
  {
   "cell_type": "markdown",
   "metadata": {
    "id": "50IIxLyU-ltW"
   },
   "source": [
    "## 5. A/B тестирование\n",
    "\n",
    "A/B-тестирование (англ. A/B testing, Split testing) — метод маркетингового исследования, суть которого заключается в том, что контрольная группа элементов сравнивается с набором тестовых групп, в которых один или несколько показателей были изменены, для того, чтобы выяснить, какие из изменений улучшают целевой показатель и улучшают ли.\n",
    "\n",
    "Типичное применение в веб-дизайне — исследование влияния цветовой схемы, расположения и размера элементов интерфейса на конверсию сайта."
   ]
  },
  {
   "cell_type": "markdown",
   "metadata": {
    "id": "JctzO1Gn-ltX"
   },
   "source": [
    "Конверсия (Conversion Rate) в интернет-маркетинге — это отношение числа посетителей сайта, выполнивших на нём какие-либо целевые действия (покупку, регистрацию, подписку, посещение определённой страницы сайта, переход по рекламной ссылке), к общему числу посетителей сайта, выраженное в процентах. \n",
    "\n",
    "\n",
    "\n",
    "В теории принципы A/B тестирования невероятно просты:\n",
    "\n",
    "- Выдвигаем предположение о том, что какое-то изменение (например, персонализация главной страницы) увеличит конверсию интернет-магазина.\n",
    "\n",
    "- Создаем альтернативную версию сайта «Б» — копию исходной версии «А» с изменениями, от которых мы ждем роста эффективности сайта.\n",
    "\n",
    "- Всех посетителей сайта случайным образом делим на две равные группы: одной группе показываем исходный вариант (контрольная группа) , второй группе (тестовой) — альтернативный. Одновременно измеряем конверсию для обеих версий сайта.\n",
    "\n",
    "- Определяем статистически достоверно победивший вариант."
   ]
  },
  {
   "cell_type": "markdown",
   "metadata": {
    "id": "UVNAqfIA-ltX"
   },
   "source": [
    "Мы будем анализировать результаты A/B тестирования двух версий дизайна кнопки сайта интернет-магазина. \n",
    "\n",
    "Целевым действием считаем клик по этой кнопке. \n",
    "\n",
    "Первые три этапа А/В тестирования за нас провели, результаты предоставили в виде файла ab_dataset.csv. Нам осталось выполнить четвертый пункт."
   ]
  },
  {
   "cell_type": "markdown",
   "metadata": {
    "id": "rQ4Gzr9o-ltX"
   },
   "source": [
    " <a id='eda'></a>\n",
    "### Первичный анализ данных"
   ]
  },
  {
   "cell_type": "markdown",
   "metadata": {
    "id": "Vo3Whc3h-ltX"
   },
   "source": [
    "Прочитаем данные из файла `ab_dataset.csv`. Сохраним их в датафрейм `df`. \n",
    "\n",
    "Прочитаем данные и посмотрим на первые 5 строк:"
   ]
  },
  {
   "cell_type": "code",
   "execution_count": 70,
   "metadata": {
    "ExecuteTime": {
     "end_time": "2023-04-26T17:59:52.661724Z",
     "start_time": "2023-04-26T17:59:52.654880Z"
    }
   },
   "outputs": [],
   "source": [
    "# !wget https://raw.githubusercontent.com/hse-ds/iad-applied-ds/master/2021/seminars/sem10_stat/ab_data.csv"
   ]
  },
  {
   "cell_type": "code",
   "execution_count": 71,
   "metadata": {
    "colab": {
     "base_uri": "https://localhost:8080/",
     "height": 204
    },
    "id": "WmrvOCGt-ltX",
    "outputId": "ba6c4690-59e0-4944-d2e8-5e0d97fcc53f",
    "ExecuteTime": {
     "end_time": "2023-04-26T17:59:52.794399Z",
     "start_time": "2023-04-26T17:59:52.657140Z"
    }
   },
   "outputs": [
    {
     "data": {
      "text/plain": "   user_id                   timestamp      group landing_page  converted\n0   851104  2017-01-21 22:11:48.556739    control     old_page          0\n1   804228  2017-01-12 08:01:45.159739    control     old_page          0\n2   661590  2017-01-11 16:55:06.154213  treatment     new_page          0\n3   853541  2017-01-08 18:28:03.143765  treatment     new_page          0\n4   864975  2017-01-21 01:52:26.210827    control     old_page          1",
      "text/html": "<div>\n<style scoped>\n    .dataframe tbody tr th:only-of-type {\n        vertical-align: middle;\n    }\n\n    .dataframe tbody tr th {\n        vertical-align: top;\n    }\n\n    .dataframe thead th {\n        text-align: right;\n    }\n</style>\n<table border=\"1\" class=\"dataframe\">\n  <thead>\n    <tr style=\"text-align: right;\">\n      <th></th>\n      <th>user_id</th>\n      <th>timestamp</th>\n      <th>group</th>\n      <th>landing_page</th>\n      <th>converted</th>\n    </tr>\n  </thead>\n  <tbody>\n    <tr>\n      <th>0</th>\n      <td>851104</td>\n      <td>2017-01-21 22:11:48.556739</td>\n      <td>control</td>\n      <td>old_page</td>\n      <td>0</td>\n    </tr>\n    <tr>\n      <th>1</th>\n      <td>804228</td>\n      <td>2017-01-12 08:01:45.159739</td>\n      <td>control</td>\n      <td>old_page</td>\n      <td>0</td>\n    </tr>\n    <tr>\n      <th>2</th>\n      <td>661590</td>\n      <td>2017-01-11 16:55:06.154213</td>\n      <td>treatment</td>\n      <td>new_page</td>\n      <td>0</td>\n    </tr>\n    <tr>\n      <th>3</th>\n      <td>853541</td>\n      <td>2017-01-08 18:28:03.143765</td>\n      <td>treatment</td>\n      <td>new_page</td>\n      <td>0</td>\n    </tr>\n    <tr>\n      <th>4</th>\n      <td>864975</td>\n      <td>2017-01-21 01:52:26.210827</td>\n      <td>control</td>\n      <td>old_page</td>\n      <td>1</td>\n    </tr>\n  </tbody>\n</table>\n</div>"
     },
     "execution_count": 71,
     "metadata": {},
     "output_type": "execute_result"
    }
   ],
   "source": [
    "df = pd.read_csv(\"ab_data.csv\")\n",
    "df.head()"
   ]
  },
  {
   "cell_type": "markdown",
   "metadata": {
    "id": "OjE-8Ylg-ltY"
   },
   "source": [
    "Посмотрим, сколько посетителей заходио на сайт (количество строк в нашем датафрейме)"
   ]
  },
  {
   "cell_type": "code",
   "execution_count": 72,
   "metadata": {
    "colab": {
     "base_uri": "https://localhost:8080/"
    },
    "id": "jyudDfaq-ltY",
    "outputId": "c9435919-dbdf-4c45-d60b-dcb20a0f58f2",
    "ExecuteTime": {
     "end_time": "2023-04-26T17:59:52.807440Z",
     "start_time": "2023-04-26T17:59:52.794045Z"
    }
   },
   "outputs": [
    {
     "name": "stdout",
     "output_type": "stream",
     "text": [
      "Число строк: 294478\n"
     ]
    }
   ],
   "source": [
    "# количество посетителей всего\n",
    "n_rows = df.shape[0]\n",
    "print(\"Число строк: {}\".format(n_rows))"
   ]
  },
  {
   "cell_type": "markdown",
   "metadata": {
    "id": "RAOG9bmL-ltY"
   },
   "source": [
    "Сколько уникальных пользователей (уникальных `user_id`) в датасете?"
   ]
  },
  {
   "cell_type": "code",
   "execution_count": 73,
   "metadata": {
    "colab": {
     "base_uri": "https://localhost:8080/"
    },
    "id": "WFa9Jd7--ltY",
    "outputId": "728d0f5c-949e-4d85-93cb-5d2a4810ae44",
    "ExecuteTime": {
     "end_time": "2023-04-26T17:59:52.915079Z",
     "start_time": "2023-04-26T17:59:52.796463Z"
    }
   },
   "outputs": [
    {
     "name": "stdout",
     "output_type": "stream",
     "text": [
      "Число уникальных пользователей : 290584\n"
     ]
    }
   ],
   "source": [
    "user_total = df.nunique()[\"user_id\"]\n",
    "print(\"Число уникальных пользователей : {}\".format(user_total))"
   ]
  },
  {
   "cell_type": "markdown",
   "metadata": {
    "id": "o3N6lGi5-ltY"
   },
   "source": [
    "Посетителей из контрольной `control` группы должны были направлять на страницу в старом дизайне  `old_page` , пользователей из тестовой группы `treatment` - на страницу в новом дизайне `new_page`. Проверим, были ли ошибки при направлении."
   ]
  },
  {
   "cell_type": "code",
   "execution_count": 74,
   "metadata": {
    "colab": {
     "base_uri": "https://localhost:8080/"
    },
    "id": "BmE8wUnS-ltY",
    "outputId": "d1f3bf07-dae9-4f5d-9d9f-c05f4caf75ff",
    "ExecuteTime": {
     "end_time": "2023-04-26T17:59:52.921243Z",
     "start_time": "2023-04-26T17:59:52.847764Z"
    }
   },
   "outputs": [
    {
     "name": "stdout",
     "output_type": "stream",
     "text": [
      "Из тестовой группы неверно направлены 1965 пользователей\n",
      "Из контрольной группы неверно направлены  1928 пользователей\n"
     ]
    }
   ],
   "source": [
    "mismatch_1 = df.query(\"group == 'treatment' and landing_page == 'old_page'\")\n",
    "print(\n",
    "    \"Из тестовой группы неверно направлены {}\".format(len(mismatch_1))\n",
    "    + \" пользователей\"\n",
    ")\n",
    "\n",
    "mismatch_2 = df.query(\"group == 'control' and landing_page == 'new_page'\")\n",
    "print(\n",
    "    \"Из контрольной группы неверно направлены  {}\".format(len(mismatch_2))\n",
    "    + \" пользователей\"\n",
    ")"
   ]
  },
  {
   "cell_type": "markdown",
   "metadata": {
    "id": "a2XyBHO6-ltY"
   },
   "source": [
    "Выясним, есть ли в данных пропуски."
   ]
  },
  {
   "cell_type": "code",
   "execution_count": 75,
   "metadata": {
    "colab": {
     "base_uri": "https://localhost:8080/"
    },
    "id": "HZeyu9Vg-ltZ",
    "outputId": "dd30978d-17ba-460a-b0d7-99d115ec0a68",
    "ExecuteTime": {
     "end_time": "2023-04-26T17:59:52.962124Z",
     "start_time": "2023-04-26T17:59:52.883634Z"
    }
   },
   "outputs": [
    {
     "name": "stdout",
     "output_type": "stream",
     "text": [
      "<class 'pandas.core.frame.DataFrame'>\n",
      "RangeIndex: 294478 entries, 0 to 294477\n",
      "Data columns (total 5 columns):\n",
      " #   Column        Non-Null Count   Dtype \n",
      "---  ------        --------------   ----- \n",
      " 0   user_id       294478 non-null  int64 \n",
      " 1   timestamp     294478 non-null  object\n",
      " 2   group         294478 non-null  object\n",
      " 3   landing_page  294478 non-null  object\n",
      " 4   converted     294478 non-null  int64 \n",
      "dtypes: int64(2), object(3)\n",
      "memory usage: 11.2+ MB\n"
     ]
    }
   ],
   "source": [
    "df.info()"
   ]
  },
  {
   "cell_type": "markdown",
   "metadata": {
    "id": "fBYhavoY-ltZ"
   },
   "source": [
    "Из сообщений следует, что пропущенных значений нет."
   ]
  },
  {
   "cell_type": "markdown",
   "metadata": {
    "id": "cG8tfrF9-ltZ"
   },
   "source": [
    "Конверсия по всем посетителям"
   ]
  },
  {
   "cell_type": "code",
   "execution_count": 76,
   "metadata": {
    "colab": {
     "base_uri": "https://localhost:8080/"
    },
    "id": "p4Wtr0fr-ltZ",
    "outputId": "ec23a6bc-480f-45ed-a2a3-283acf734415",
    "ExecuteTime": {
     "end_time": "2023-04-26T17:59:52.962391Z",
     "start_time": "2023-04-26T17:59:52.889167Z"
    }
   },
   "outputs": [
    {
     "name": "stdout",
     "output_type": "stream",
     "text": [
      "Конверсия по всем посетителям: 11.96591935560551 %\n"
     ]
    }
   ],
   "source": [
    "p_all = df[\"converted\"].mean()\n",
    "print(\"Конверсия по всем посетителям: {} %\".format(p_all * 100))"
   ]
  },
  {
   "cell_type": "code",
   "execution_count": 77,
   "metadata": {
    "colab": {
     "base_uri": "https://localhost:8080/"
    },
    "id": "PdJekzO9-ltZ",
    "outputId": "d6e30996-45d7-4855-8ae7-692db14a122f",
    "ExecuteTime": {
     "end_time": "2023-04-26T17:59:52.962549Z",
     "start_time": "2023-04-26T17:59:52.891533Z"
    }
   },
   "outputs": [
    {
     "data": {
      "text/plain": "0.11965919355605512"
     },
     "execution_count": 77,
     "metadata": {},
     "output_type": "execute_result"
    }
   ],
   "source": [
    "# можно и так:\n",
    "sum(df[\"converted\"].values) / n_rows"
   ]
  },
  {
   "cell_type": "markdown",
   "metadata": {
    "id": "rz1RnfX_-ltZ"
   },
   "source": [
    "Давайте посмотрим на описательную статистику нашего датасета (воспользуемся функцией  `describe`) и постараемся получить ответы на следующие вопросы:\n",
    "\n",
    "- Какова вероятность клика для посетителей из контрольной группы (старый дизайн)?\n",
    "\n",
    "- Какова вероятность клика для посетителей из тестовой группы (новый дизайн кнопки)?\n",
    "\n",
    "- Каково соотношение размеров тестовой и контрольный групп? Какова вероятность, что очередной посетитель будет направлен на версию со старым дизайном? С новым дизайном?"
   ]
  },
  {
   "cell_type": "code",
   "execution_count": 78,
   "metadata": {
    "colab": {
     "base_uri": "https://localhost:8080/",
     "height": 173
    },
    "id": "cywgO088-ltZ",
    "outputId": "c8540ac3-b974-4552-e14b-5346f480e619",
    "ExecuteTime": {
     "end_time": "2023-04-26T17:59:52.981137Z",
     "start_time": "2023-04-26T17:59:52.895294Z"
    }
   },
   "outputs": [
    {
     "data": {
      "text/plain": "            user_id                                                    \n              count           mean           std       min       25%   \ngroup                                                                  \ncontrol    147202.0  788123.098035  91278.896888  630002.0  709287.0  \\\ntreatment  147276.0  787825.226283  91142.800641  630000.0  708729.5   \n\n                                         converted                            \n                50%        75%       max     count      mean       std  min   \ngroup                                                                         \ncontrol    788053.5  867155.50  945998.0  147202.0  0.120399  0.325429  0.0  \\\ntreatment  787837.5  866693.75  945999.0  147276.0  0.118920  0.323695  0.0   \n\n                               \n           25%  50%  75%  max  \ngroup                          \ncontrol    0.0  0.0  0.0  1.0  \ntreatment  0.0  0.0  0.0  1.0  ",
      "text/html": "<div>\n<style scoped>\n    .dataframe tbody tr th:only-of-type {\n        vertical-align: middle;\n    }\n\n    .dataframe tbody tr th {\n        vertical-align: top;\n    }\n\n    .dataframe thead tr th {\n        text-align: left;\n    }\n\n    .dataframe thead tr:last-of-type th {\n        text-align: right;\n    }\n</style>\n<table border=\"1\" class=\"dataframe\">\n  <thead>\n    <tr>\n      <th></th>\n      <th colspan=\"8\" halign=\"left\">user_id</th>\n      <th colspan=\"8\" halign=\"left\">converted</th>\n    </tr>\n    <tr>\n      <th></th>\n      <th>count</th>\n      <th>mean</th>\n      <th>std</th>\n      <th>min</th>\n      <th>25%</th>\n      <th>50%</th>\n      <th>75%</th>\n      <th>max</th>\n      <th>count</th>\n      <th>mean</th>\n      <th>std</th>\n      <th>min</th>\n      <th>25%</th>\n      <th>50%</th>\n      <th>75%</th>\n      <th>max</th>\n    </tr>\n    <tr>\n      <th>group</th>\n      <th></th>\n      <th></th>\n      <th></th>\n      <th></th>\n      <th></th>\n      <th></th>\n      <th></th>\n      <th></th>\n      <th></th>\n      <th></th>\n      <th></th>\n      <th></th>\n      <th></th>\n      <th></th>\n      <th></th>\n      <th></th>\n    </tr>\n  </thead>\n  <tbody>\n    <tr>\n      <th>control</th>\n      <td>147202.0</td>\n      <td>788123.098035</td>\n      <td>91278.896888</td>\n      <td>630002.0</td>\n      <td>709287.0</td>\n      <td>788053.5</td>\n      <td>867155.50</td>\n      <td>945998.0</td>\n      <td>147202.0</td>\n      <td>0.120399</td>\n      <td>0.325429</td>\n      <td>0.0</td>\n      <td>0.0</td>\n      <td>0.0</td>\n      <td>0.0</td>\n      <td>1.0</td>\n    </tr>\n    <tr>\n      <th>treatment</th>\n      <td>147276.0</td>\n      <td>787825.226283</td>\n      <td>91142.800641</td>\n      <td>630000.0</td>\n      <td>708729.5</td>\n      <td>787837.5</td>\n      <td>866693.75</td>\n      <td>945999.0</td>\n      <td>147276.0</td>\n      <td>0.118920</td>\n      <td>0.323695</td>\n      <td>0.0</td>\n      <td>0.0</td>\n      <td>0.0</td>\n      <td>0.0</td>\n      <td>1.0</td>\n    </tr>\n  </tbody>\n</table>\n</div>"
     },
     "execution_count": 78,
     "metadata": {},
     "output_type": "execute_result"
    }
   ],
   "source": [
    "df_grp = df.groupby(\"group\")\n",
    "df_grp.describe()"
   ]
  },
  {
   "cell_type": "markdown",
   "metadata": {
    "id": "BB1aqoKD-ltZ"
   },
   "source": [
    "Ответы на остальные вопросы можно найти, например, так:"
   ]
  },
  {
   "cell_type": "code",
   "execution_count": 79,
   "metadata": {
    "colab": {
     "base_uri": "https://localhost:8080/"
    },
    "id": "2q4mHg1y-lta",
    "outputId": "2f124504-d8f9-4178-cb6c-00aea14146a7",
    "ExecuteTime": {
     "end_time": "2023-04-26T17:59:52.981433Z",
     "start_time": "2023-04-26T17:59:52.938745Z"
    }
   },
   "outputs": [
    {
     "name": "stdout",
     "output_type": "stream",
     "text": [
      "Соотношение размеров тестовой и контрольной групп: 1.0005027105609978\n",
      "Вероятность, что новый пользователь будет направлен на версию со старым дизайном: 0.5001256460584492\n",
      "Вероятность, что новый пользователь будет направлен на версию с новым дизайном: 0.49987435394155083\n"
     ]
    }
   ],
   "source": [
    "# объем тестовой группы\n",
    "n_rows_treat = len(df[df[\"group\"] == \"treatment\"])\n",
    "\n",
    "# объем контрольной группы\n",
    "n_rows_contr = n_rows - n_rows_treat\n",
    "\n",
    "print(\n",
    "    \"Соотношение размеров тестовой и контрольной групп: {}\".format(\n",
    "        n_rows_treat / n_rows_contr\n",
    "    )\n",
    ")\n",
    "\n",
    "print(\n",
    "    \"Вероятность, что новый пользователь будет направлен на версию со старым дизайном: {}\".format(\n",
    "        n_rows_treat / n_rows\n",
    "    )\n",
    ")\n",
    "print(\n",
    "    \"Вероятность, что новый пользователь будет направлен на версию с новым дизайном: {}\".format(\n",
    "        n_rows_contr / n_rows\n",
    "    )\n",
    ")"
   ]
  },
  {
   "cell_type": "markdown",
   "metadata": {
    "id": "ORB7gHw3-lta"
   },
   "source": [
    "**Задание **\n",
    "\n",
    "А теперь ответьте на главный вопрос данного этапа:  выявил ли предварительный анализ, что дизайн кнопки влияет на конверсию и если да, то как именно?"
   ]
  },
  {
   "cell_type": "markdown",
   "metadata": {
    "id": "fBO2y259-lta"
   },
   "source": [
    "<a id='si'></a>\n",
    "### Статистический вывод для A/B Теста"
   ]
  },
  {
   "cell_type": "markdown",
   "metadata": {
    "id": "BiX8WZHj-lta"
   },
   "source": [
    "По нашим данным очевидно, что кликабельность старой версии выше, чем новой, и напрашивается решение оставить всё как есть.  Однако бизнес потребует обоснований для такого глобального решения, бОльших, чем \"очевидно по результатам одного эксперимента\". \n",
    "\n",
    "И такие обоснования предоставляет специально разработанная методология - статистический вывод. \n",
    "\n",
    "Статистический вывод - это переход от данных о статистической выборке (нашего датасета) к обобщениям в виде параметров генеральной совокупности с вычислением степени уверенности в справедливости этих обобщений."
   ]
  },
  {
   "cell_type": "markdown",
   "metadata": {
    "id": "vOkVOhCV-lta"
   },
   "source": [
    "Будем считать, что клик — это некоторая случайная переменная , принимающая значения 1  или 0 с вероятностями $\\theta$ и $1-\\theta$ соответственно. \n",
    "\n",
    "Применительно к нашей задаче посетитель может кликнуть на кнопку (с вероятностью $\\theta$) или не кликнуть на нее (с вероятностью, соответственно,  $1-\\theta$)"
   ]
  },
  {
   "cell_type": "markdown",
   "metadata": {
    "id": "PqV1-lnU-lta"
   },
   "source": [
    "На практике статистические заключения опираются на допущения о том, как распределены рассматриваемые случайные переменные (данные). (Даже принято преобразовывать данные с тем, чтобы они соответствовали одному из известных распределений)\n",
    "\n",
    "Распределение вероятностей — это выражение, которое определяет, какие значения будет принимать данная переменная или параметр,  и как часто будет встречаться каждое из этих значений.\n",
    "\n",
    " Наша случайная переменная — клик — имеет распределение, которое называется распределением Бернулли с параметром $\\theta$:\n",
    "$$ p(k) = \\theta^k (1 - \\theta)^{1 - k}, $$\n",
    "\n",
    "где $p(k)$ —  вероятность случайной переменной  принять значение $k$, $k \\in \\{ 0;1\\}$."
   ]
  },
  {
   "cell_type": "markdown",
   "metadata": {
    "id": "-x3YSR-B-lta"
   },
   "source": [
    "Из теории известно, что среднее значение распределения Бернулли равно $\\mu = \\theta$, а дисперсия равна $\\sigma^2 = \\theta(1 - \\theta)$. Нас интересует конверсия сайта, в рассматриваемой постановке она равна $\\theta$."
   ]
  },
  {
   "cell_type": "markdown",
   "metadata": {
    "id": "63ZFf2FT-ltb"
   },
   "source": [
    "<a id='si1'></a>\n",
    "#### Формулировка рабочей гипотезы"
   ]
  },
  {
   "cell_type": "markdown",
   "metadata": {
    "id": "76-2Q9oh-ltb"
   },
   "source": [
    "Рабочая гипотеза в нашем случае может быть сформулирована, например, так: \"Конверсия сайта со старым дизайном не меньше, чем с новым\""
   ]
  },
  {
   "cell_type": "markdown",
   "metadata": {
    "id": "UTPeiEN1-ltb"
   },
   "source": [
    "<a id='si2'></a>\n",
    "#### Формальное описание нулевой и альтернативной гипотез"
   ]
  },
  {
   "cell_type": "markdown",
   "metadata": {
    "id": "41QMxujG-ltb"
   },
   "source": [
    "$H_{0}$ : $\\theta_{new}$ <= $\\theta_{old}$ \n",
    "\n",
    "$H_{1}$ : $\\theta_{new}$ > $\\theta_{old}$ "
   ]
  },
  {
   "cell_type": "markdown",
   "metadata": {
    "id": "qyHMx20O-ltb"
   },
   "source": [
    "<a id='si1'></a>\n",
    "#### Выбор подходящего статистического теста (статистического критерия)"
   ]
  },
  {
   "cell_type": "markdown",
   "metadata": {
    "id": "qV49ZVmt-ltb"
   },
   "source": [
    "Истинные значения $\\theta_{new}$ и $\\theta_{old}$ мы найти не можем, но мы можем их сравнить. В этом помогут те самые две теоремы."
   ]
  },
  {
   "cell_type": "markdown",
   "metadata": {
    "id": "_h9hAZ18-ltc"
   },
   "source": [
    "\n",
    "\n",
    "\n",
    "\n",
    "\n",
    "На основании Закона больших чисел мы можем оценить средние значения случайных величин $\\theta_{new}$ и $\\theta_{old}$ на  генеральных совокупностях по их средним значениям на наших больших выборках."
   ]
  },
  {
   "cell_type": "markdown",
   "metadata": {
    "id": "9kDK8gEd-ltc"
   },
   "source": [
    "На основании Центральной предельной теоремы средние значения распределены нормально при больших объемах выборок."
   ]
  },
  {
   "cell_type": "markdown",
   "metadata": {
    "id": "pMT1DSIj-ltc"
   },
   "source": [
    "Чтобы выбрать для проверки наших гипотез подходящий статистический критерий, уясним задачу. Нам нужно выяснить, случайно или значимо отличаются средние значения, т.е. доли, кликнувших посетителей в контрольной и тестовой выборках."
   ]
  },
  {
   "cell_type": "markdown",
   "metadata": {
    "id": "x4saRv3C-ltc"
   },
   "source": [
    "<a id='si4'></a>\n",
    "#### Проведение вычислений. $Z$-критерий.\n",
    "\n",
    "$$Z = \\frac{p_1 - p_2}{\\sqrt{p(1-p) (\\frac{1}{n_1} + \\frac{1}{n_2})}}$$\n",
    "\n",
    "где $p_1$ - конверсия в первой группе; $p_2$ - конверсия во второй группе; $p$ - конверсия во всех наблюдениях; $n_1$, $n_2$ - количество наблюдений в группах.\n",
    "\n",
    "Для полученного значения критерия вычисляем p-value $p$. \n",
    "- Если $p < \\alpha$, то гипотеза $H_0$ отвергается в пользу $H_1$.\n",
    "- Если $p \\ge \\alpha$, то принимается гипотеза $H_0$.\n",
    "\n",
    "Обычно пороговое значение $\\alpha=0.05$."
   ]
  },
  {
   "cell_type": "code",
   "execution_count": 80,
   "metadata": {
    "colab": {
     "base_uri": "https://localhost:8080/"
    },
    "id": "VpV4OkX2-ltc",
    "outputId": "cef54ff1-356e-4bc1-a3f0-eb14d4a1113c",
    "ExecuteTime": {
     "end_time": "2023-04-26T17:59:53.137366Z",
     "start_time": "2023-04-26T17:59:52.946367Z"
    }
   },
   "outputs": [
    {
     "name": "stdout",
     "output_type": "stream",
     "text": [
      "Z-статистика=-1.2369217547321678,  p_value=0.8919419336512124\n"
     ]
    }
   ],
   "source": [
    "import statsmodels\n",
    "import statsmodels.api as sm\n",
    "\n",
    "convert_contr = sum(df.query(\"group == 'control'\")[\"converted\"])\n",
    "convert_treat = sum(df.query(\"group == 'treatment'\")[\"converted\"])\n",
    "\n",
    "z_score, p_value = sm.stats.proportions_ztest(\n",
    "    [convert_treat, convert_contr], [n_rows_treat, n_rows_contr], alternative=\"larger\"\n",
    ")\n",
    "print(\"Z-статистика={},  p_value={}\".format(z_score, p_value))"
   ]
  },
  {
   "cell_type": "markdown",
   "metadata": {},
   "source": [
    "#### Проведение вычислений. $T$-test."
   ]
  },
  {
   "cell_type": "code",
   "execution_count": 81,
   "metadata": {
    "ExecuteTime": {
     "end_time": "2023-04-26T17:59:53.140953Z",
     "start_time": "2023-04-26T17:59:53.097306Z"
    }
   },
   "outputs": [],
   "source": [
    "t_score, p_value, _ = statsmodels.stats.weightstats.ttest_ind(\n",
    "    df.query(\"group == 'treatment'\")[\"converted\"],\n",
    "    df.query(\"group == 'control'\")[\"converted\"],\n",
    "    alternative=\"larger\",\n",
    "    usevar=\"unequal\",\n",
    ")"
   ]
  },
  {
   "cell_type": "code",
   "execution_count": 82,
   "metadata": {
    "ExecuteTime": {
     "end_time": "2023-04-26T17:59:53.141180Z",
     "start_time": "2023-04-26T17:59:53.120244Z"
    }
   },
   "outputs": [
    {
     "name": "stdout",
     "output_type": "stream",
     "text": [
      "T-статистика=-1.236919107065067,  p_value=0.8919409489056522\n"
     ]
    }
   ],
   "source": [
    "print(\"T-статистика={},  p_value={}\".format(t_score, p_value))"
   ]
  },
  {
   "cell_type": "markdown",
   "metadata": {},
   "source": [
    "#### Проведение вычислений. $Mann–Whitney$-test."
   ]
  },
  {
   "cell_type": "code",
   "execution_count": 83,
   "metadata": {
    "ExecuteTime": {
     "end_time": "2023-04-26T17:59:53.237337Z",
     "start_time": "2023-04-26T17:59:53.122795Z"
    }
   },
   "outputs": [],
   "source": [
    "w_score, p_value = sts.mannwhitneyu(\n",
    "    df.query(\"group == 'treatment'\")[\"converted\"],\n",
    "    df.query(\"group == 'control'\")[\"converted\"],\n",
    "    alternative=\"greater\",\n",
    ")"
   ]
  },
  {
   "cell_type": "code",
   "execution_count": 84,
   "metadata": {
    "ExecuteTime": {
     "end_time": "2023-04-26T17:59:53.242800Z",
     "start_time": "2023-04-26T17:59:53.237667Z"
    }
   },
   "outputs": [
    {
     "name": "stdout",
     "output_type": "stream",
     "text": [
      "W-статистика=10823622516.0,  p_value=0.8919415509213815\n"
     ]
    }
   ],
   "source": [
    "print(\"W-статистика={},  p_value={}\".format(w_score, p_value))"
   ]
  },
  {
   "cell_type": "markdown",
   "metadata": {
    "id": "03JQLOJ2-ltd"
   },
   "source": [
    "<a id='m12'></a>\n",
    "### Ошибки первого и второго рода"
   ]
  },
  {
   "cell_type": "markdown",
   "metadata": {
    "id": "yTDRFQb3-lte"
   },
   "source": [
    "|  | | | |\n",
    "|----------|:---------|:--------|:---------|\n",
    "|  | | \tВерная гипотеза: | |\n",
    "|  |     | $H_0$   | $H_1$    |\n",
    "| Результат применения критерия: | $H_0$   |$H_0$ верно принята  |$H_0$ неверно принята (ошибка II рода)  |  \n",
    "|  |$H_1$   |$H_0$ неверно отвергнута(ошибка I рода)  | $H_0$ верно отвергнута   |\n",
    "\n"
   ]
  },
  {
   "cell_type": "markdown",
   "metadata": {
    "id": "q5HXVl1S-lte"
   },
   "source": [
    "Уровень значимости (статистическая значимость, statistical significance) $\\alpha$ - это и есть вероятность ошибки первого рода, т. е. вероятность принятия альтернативной гипотезы при условии, что на самом деле верна нулевая гипотеза. \n",
    "\n",
    "Обозначим  $\\beta$  вероятность ошибки второго рода. \n",
    "\n",
    "Величина  $1-\\beta$ называется *статистической мощностью* (statistical power) критерия. По сути мощность показывает, сколько значений, соответствующих альтернативной гипотезе, мы действительно отнесем к альтернативной гипотезе"
   ]
  },
  {
   "cell_type": "markdown",
   "metadata": {},
   "source": [
    "![asd](https://habrastorage.org/files/475/9e5/ebc/4759e5ebcfc54b11a852704017d2d8ac.png)"
   ]
  },
  {
   "cell_type": "markdown",
   "metadata": {},
   "source": [
    "![mem](https://i2.wp.com/flowingdata.com/wp-content/uploads/2014/05/Type-I-and-II-errors1.jpg?fit=960%2C720&ssl=1)"
   ]
  }
 ],
 "metadata": {
  "kernelspec": {
   "display_name": "Python 3 (ipykernel)",
   "language": "python",
   "name": "python3"
  },
  "language_info": {
   "codemirror_mode": {
    "name": "ipython",
    "version": 3
   },
   "file_extension": ".py",
   "mimetype": "text/x-python",
   "name": "python",
   "nbconvert_exporter": "python",
   "pygments_lexer": "ipython3",
   "version": "3.9.12"
  }
 },
 "nbformat": 4,
 "nbformat_minor": 4
}
