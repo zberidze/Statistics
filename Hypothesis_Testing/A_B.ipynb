{
  "nbformat": 4,
  "nbformat_minor": 0,
  "metadata": {
    "colab": {
      "provenance": []
    },
    "kernelspec": {
      "name": "python3",
      "display_name": "Python 3"
    },
    "language_info": {
      "name": "python"
    }
  },
  "cells": [
    {
      "cell_type": "markdown",
      "source": [
        "In this article we’ll go over the process of analysing an A/B experiment, from formulating a hypothesis, testing it, and finally interpreting results. For our data, we’ll use a dataset from Kaggle which contains the results of an A/B test"
      ],
      "metadata": {
        "id": "ozKUbnsKmUiO"
      }
    },
    {
      "cell_type": "markdown",
      "source": [
        "**Here’s what we’ll do:**\n",
        "\n",
        "Designing our experiment\n",
        "\n",
        "Collecting and preparing the data\n",
        "\n",
        "Visualising the results\n",
        "\n",
        "Testing the hypothesis\n",
        "\n",
        "Drawing conclusions\n",
        "\n",
        "To make it a bit more realistic, here’s a potential scenario for our study:\n",
        "Let’s imagine you work on the product team at a medium-sized online e-commerce business. The UX designer worked really hard on a new version of the product page, with the hope that it will lead to a higher conversion rate. The product manager (PM) told you that the current conversion rate is about 13% on average throughout the year, and that the team would be happy with an increase of 2%, meaning that the new design will be considered a success if it raises the conversion rate to 15%.\n",
        "Before rolling out the change, the team would be more comfortable testing it on a small number of users to see how it performs, so you suggest running an A/B test on a subset of your user base users."
      ],
      "metadata": {
        "id": "Ztl-Gi1tmZVn"
      }
    },
    {
      "cell_type": "markdown",
      "source": [
        "**1. Designing our experiment**\n",
        "\n",
        "Formulating a hypothesis\n",
        "\n",
        "First things first, we want to make sure we formulate a hypothesis at the start of our project. This will make sure our interpretation of the results is correct as well as rigorous.\n",
        "Given we don’t know if the new design will perform better or worse (or the same?) as our current design, we’ll choose a two-tailed test:\n",
        "\n",
        "Hₒ: p = pₒ\n",
        "\n",
        "Hₐ: p ≠ pₒ\n",
        "\n",
        "where p and pₒ stand for the conversion rate of the new and old design, respectively. We’ll also set a confidence level of 95%:\n",
        "α = 0.05\n",
        "The α value is a threshold we set, by which we say “if the probability of observing a result as extreme or more (p-value) is lower than α, then we reject the Null hypothesis”. Since our α=0.05 (indicating 5% probability), our confidence (1 — α) is 95%.\n",
        "Don’t worry if you are not familiar with the above, all this really means is that whatever conversion rate we observe for our new design in our test, we want to be 95% confident it is statistically different from the conversion rate of our old design, before we decide to reject the Null hypothesis Hₒ."
      ],
      "metadata": {
        "id": "X06Dx2RxnADT"
      }
    },
    {
      "cell_type": "markdown",
      "source": [
        "**Choosing the variables**\n",
        "\n",
        "For our test we’ll need two groups:\n",
        "\n",
        "A control group - They'll be shown the old design\n",
        "A treatment (or experimental) group - They'll be shown the new design\n",
        "This will be our Independent Variable. The reason we have two groups even though we know the baseline conversion rate is that we want to control for other variables that could have an effect on our results, such as seasonality: by having a control group we can directly compare their results to the treatment group, because the only systematic difference between the groups is the design of the product page, and we can therefore attribute any differences in results to the designs.\n",
        "\n",
        "For our Dependent Variable (i.e. what we are trying to measure), we are interested in capturing the conversion rate. A way we can code this is by each user session with a binary variable:\n",
        "\n",
        "0 - The user did not buy the product during this user session\n",
        "\n",
        "1 - The user bought the product during this user session\n",
        "\n",
        "This way, we can easily calculate the mean for each group to get the conversion rate of each design."
      ],
      "metadata": {
        "id": "LcLoefTmojm4"
      }
    },
    {
      "cell_type": "markdown",
      "source": [
        "Choosing a sample size\n",
        "\n",
        "It is important to note that since we won’t test the whole user base (our population), the conversion rates that we’ll get will inevitably be only estimates of the true rates.\n",
        "\n",
        "The number of people (or user sessions) we decide to capture in each group will have an effect on the precision of our estimated conversion rates: the larger the sample size, the more precise our estimates (i.e. the smaller our confidence intervals), the higher the chance to detect a difference in the two groups, if present.\n",
        "\n",
        "On the other hand, the larger our sample gets, the more expensive (and impractical) our study becomes.\n",
        "\n",
        "So how many people should we have in each group?\n",
        "\n",
        "The sample size we need is estimated through something called Power analysis, and it depends on a few factors:\n",
        "\n",
        "Power of the test (1 — β) — This represents the probability of finding a statistical difference between the groups in our test when a difference is actually present. This is usually set at 0.8 by convention (here’s more info on statistical power, if you are curious)\n",
        "Alpha value (α) — The critical value we set earlier to 0.05\n",
        "Effect size — How big of a difference we expect there to be between the conversion rates\n",
        "Since our team would be happy with a difference of 2%, we can use 13% and 15% to calculate the effect size we expect.\n",
        "Luckily, Python takes care of all these calculations for us:"
      ],
      "metadata": {
        "id": "b7ZXVqRdqbMZ"
      }
    },
    {
      "cell_type": "code",
      "source": [
        "import warnings\n",
        "warnings.filterwarnings(\"ignore\")"
      ],
      "metadata": {
        "id": "42OSekSjr_k0"
      },
      "execution_count": 1,
      "outputs": []
    },
    {
      "cell_type": "code",
      "execution_count": 2,
      "metadata": {
        "colab": {
          "base_uri": "https://localhost:8080/"
        },
        "id": "JeeXjpM7mNCH",
        "outputId": "68859781-6a8b-4c62-cf27-0ee0025503ee"
      },
      "outputs": [
        {
          "output_type": "stream",
          "name": "stdout",
          "text": [
            "4720\n"
          ]
        }
      ],
      "source": [
        "#Packages imports\n",
        "import numpy as np\n",
        "import pandas as pd\n",
        "import scipy.stats as stats\n",
        "import statsmodels.stats.api as sms\n",
        "import matplotlib as mpl\n",
        "import matplotlib.pyplot as plt\n",
        "import seaborn as sns\n",
        "from math import ceil\n",
        "%matplotlib inline\n",
        "# Some plot styling preferences\n",
        "plt.style.use ('seaborn-whitegrid')\n",
        "\n",
        "font = {'family': 'Helvetica',\n",
        "         'weight': 'bold',\n",
        "         'size' : 14}\n",
        "mpl.rc ('font', **font)\n",
        "effect_size = sms.proportion_effectsize (0.13,0.15)\n",
        "# Calculating effect size based on our expected rates\n",
        "required_n = sms.NormalIndPower ().solve_power (effect_size,\n",
        "                                                 power=0.8,\n",
        "                                                 alpha=0.05,\n",
        "                                                 ratio=1)\n",
        "#sample size needed\n",
        "required_n = ceil (required_n)\n",
        "#to next whole number\n",
        "print (required_n)\n",
        "# Calculating\n",
        "# Rounding up"
      ]
    },
    {
      "cell_type": "markdown",
      "source": [
        "We’d need at least 4720 observations for each group.\n",
        "Having set the power parameter to 0.8 in practice means that if there exists an actual difference in conversion rate between our designs, assuming the difference is the one we estimated (13% vs. 15%), we have about 80% chance to detect it as statistically significant in our test with the sample size we calculated."
      ],
      "metadata": {
        "id": "Y5eBc2Teuwls"
      }
    },
    {
      "cell_type": "markdown",
      "source": [
        "Collecting and preparing the data\n",
        "\n",
        "Great stuff! So now that we have our required sample size, we need to collect the data. Usually at this point you would work with your team to set up the experiment, likely with the help of the Engineering team, and make sure that you collect enough data based on the sample size needed.\n",
        "However, since we’ll use a dataset that we found online, in order to simulate this situation we’ll:\n",
        "\n",
        "Download the dataset from Kaggle\n",
        "\n",
        "Read the data into a pandas DataFrame\n",
        "\n",
        "Check and clean the data as needed\n",
        "\n",
        "Randomly sample n=4720 rows from the DataFrame for each group *\n",
        "*Note: Normally, we would not need to perform step 4, this is just for the sake of the exercise\n",
        "Since I already downloaded the dataset, I’ll go straight to number 2.\n"
      ],
      "metadata": {
        "id": "VWTIkOv4v5GE"
      }
    },
    {
      "cell_type": "code",
      "source": [
        "df = pd.read_csv('ab_data.csv')\n",
        "df.head()\n"
      ],
      "metadata": {
        "colab": {
          "base_uri": "https://localhost:8080/",
          "height": 206
        },
        "id": "wZmC4-d7vvJn",
        "outputId": "f2b57515-a12a-474c-be5c-df8b692dc8af"
      },
      "execution_count": 3,
      "outputs": [
        {
          "output_type": "execute_result",
          "data": {
            "text/plain": [
              "   user_id                   timestamp      group landing_page  converted\n",
              "0   851104  2017-01-21 22:11:48.556739    control     old_page          0\n",
              "1   804228  2017-01-12 08:01:45.159739    control     old_page          0\n",
              "2   661590  2017-01-11 16:55:06.154213  treatment     new_page          0\n",
              "3   853541  2017-01-08 18:28:03.143765  treatment     new_page          0\n",
              "4   864975  2017-01-21 01:52:26.210827    control     old_page          1"
            ],
            "text/html": [
              "\n",
              "  <div id=\"df-01605347-ae5d-4e24-8a18-c39a169ed334\" class=\"colab-df-container\">\n",
              "    <div>\n",
              "<style scoped>\n",
              "    .dataframe tbody tr th:only-of-type {\n",
              "        vertical-align: middle;\n",
              "    }\n",
              "\n",
              "    .dataframe tbody tr th {\n",
              "        vertical-align: top;\n",
              "    }\n",
              "\n",
              "    .dataframe thead th {\n",
              "        text-align: right;\n",
              "    }\n",
              "</style>\n",
              "<table border=\"1\" class=\"dataframe\">\n",
              "  <thead>\n",
              "    <tr style=\"text-align: right;\">\n",
              "      <th></th>\n",
              "      <th>user_id</th>\n",
              "      <th>timestamp</th>\n",
              "      <th>group</th>\n",
              "      <th>landing_page</th>\n",
              "      <th>converted</th>\n",
              "    </tr>\n",
              "  </thead>\n",
              "  <tbody>\n",
              "    <tr>\n",
              "      <th>0</th>\n",
              "      <td>851104</td>\n",
              "      <td>2017-01-21 22:11:48.556739</td>\n",
              "      <td>control</td>\n",
              "      <td>old_page</td>\n",
              "      <td>0</td>\n",
              "    </tr>\n",
              "    <tr>\n",
              "      <th>1</th>\n",
              "      <td>804228</td>\n",
              "      <td>2017-01-12 08:01:45.159739</td>\n",
              "      <td>control</td>\n",
              "      <td>old_page</td>\n",
              "      <td>0</td>\n",
              "    </tr>\n",
              "    <tr>\n",
              "      <th>2</th>\n",
              "      <td>661590</td>\n",
              "      <td>2017-01-11 16:55:06.154213</td>\n",
              "      <td>treatment</td>\n",
              "      <td>new_page</td>\n",
              "      <td>0</td>\n",
              "    </tr>\n",
              "    <tr>\n",
              "      <th>3</th>\n",
              "      <td>853541</td>\n",
              "      <td>2017-01-08 18:28:03.143765</td>\n",
              "      <td>treatment</td>\n",
              "      <td>new_page</td>\n",
              "      <td>0</td>\n",
              "    </tr>\n",
              "    <tr>\n",
              "      <th>4</th>\n",
              "      <td>864975</td>\n",
              "      <td>2017-01-21 01:52:26.210827</td>\n",
              "      <td>control</td>\n",
              "      <td>old_page</td>\n",
              "      <td>1</td>\n",
              "    </tr>\n",
              "  </tbody>\n",
              "</table>\n",
              "</div>\n",
              "    <div class=\"colab-df-buttons\">\n",
              "\n",
              "  <div class=\"colab-df-container\">\n",
              "    <button class=\"colab-df-convert\" onclick=\"convertToInteractive('df-01605347-ae5d-4e24-8a18-c39a169ed334')\"\n",
              "            title=\"Convert this dataframe to an interactive table.\"\n",
              "            style=\"display:none;\">\n",
              "\n",
              "  <svg xmlns=\"http://www.w3.org/2000/svg\" height=\"24px\" viewBox=\"0 -960 960 960\">\n",
              "    <path d=\"M120-120v-720h720v720H120Zm60-500h600v-160H180v160Zm220 220h160v-160H400v160Zm0 220h160v-160H400v160ZM180-400h160v-160H180v160Zm440 0h160v-160H620v160ZM180-180h160v-160H180v160Zm440 0h160v-160H620v160Z\"/>\n",
              "  </svg>\n",
              "    </button>\n",
              "\n",
              "  <style>\n",
              "    .colab-df-container {\n",
              "      display:flex;\n",
              "      gap: 12px;\n",
              "    }\n",
              "\n",
              "    .colab-df-convert {\n",
              "      background-color: #E8F0FE;\n",
              "      border: none;\n",
              "      border-radius: 50%;\n",
              "      cursor: pointer;\n",
              "      display: none;\n",
              "      fill: #1967D2;\n",
              "      height: 32px;\n",
              "      padding: 0 0 0 0;\n",
              "      width: 32px;\n",
              "    }\n",
              "\n",
              "    .colab-df-convert:hover {\n",
              "      background-color: #E2EBFA;\n",
              "      box-shadow: 0px 1px 2px rgba(60, 64, 67, 0.3), 0px 1px 3px 1px rgba(60, 64, 67, 0.15);\n",
              "      fill: #174EA6;\n",
              "    }\n",
              "\n",
              "    .colab-df-buttons div {\n",
              "      margin-bottom: 4px;\n",
              "    }\n",
              "\n",
              "    [theme=dark] .colab-df-convert {\n",
              "      background-color: #3B4455;\n",
              "      fill: #D2E3FC;\n",
              "    }\n",
              "\n",
              "    [theme=dark] .colab-df-convert:hover {\n",
              "      background-color: #434B5C;\n",
              "      box-shadow: 0px 1px 3px 1px rgba(0, 0, 0, 0.15);\n",
              "      filter: drop-shadow(0px 1px 2px rgba(0, 0, 0, 0.3));\n",
              "      fill: #FFFFFF;\n",
              "    }\n",
              "  </style>\n",
              "\n",
              "    <script>\n",
              "      const buttonEl =\n",
              "        document.querySelector('#df-01605347-ae5d-4e24-8a18-c39a169ed334 button.colab-df-convert');\n",
              "      buttonEl.style.display =\n",
              "        google.colab.kernel.accessAllowed ? 'block' : 'none';\n",
              "\n",
              "      async function convertToInteractive(key) {\n",
              "        const element = document.querySelector('#df-01605347-ae5d-4e24-8a18-c39a169ed334');\n",
              "        const dataTable =\n",
              "          await google.colab.kernel.invokeFunction('convertToInteractive',\n",
              "                                                    [key], {});\n",
              "        if (!dataTable) return;\n",
              "\n",
              "        const docLinkHtml = 'Like what you see? Visit the ' +\n",
              "          '<a target=\"_blank\" href=https://colab.research.google.com/notebooks/data_table.ipynb>data table notebook</a>'\n",
              "          + ' to learn more about interactive tables.';\n",
              "        element.innerHTML = '';\n",
              "        dataTable['output_type'] = 'display_data';\n",
              "        await google.colab.output.renderOutput(dataTable, element);\n",
              "        const docLink = document.createElement('div');\n",
              "        docLink.innerHTML = docLinkHtml;\n",
              "        element.appendChild(docLink);\n",
              "      }\n",
              "    </script>\n",
              "  </div>\n",
              "\n",
              "\n",
              "<div id=\"df-5aefe9b1-2da0-4037-b597-086ea2fdeb30\">\n",
              "  <button class=\"colab-df-quickchart\" onclick=\"quickchart('df-5aefe9b1-2da0-4037-b597-086ea2fdeb30')\"\n",
              "            title=\"Suggest charts.\"\n",
              "            style=\"display:none;\">\n",
              "\n",
              "<svg xmlns=\"http://www.w3.org/2000/svg\" height=\"24px\"viewBox=\"0 0 24 24\"\n",
              "     width=\"24px\">\n",
              "    <g>\n",
              "        <path d=\"M19 3H5c-1.1 0-2 .9-2 2v14c0 1.1.9 2 2 2h14c1.1 0 2-.9 2-2V5c0-1.1-.9-2-2-2zM9 17H7v-7h2v7zm4 0h-2V7h2v10zm4 0h-2v-4h2v4z\"/>\n",
              "    </g>\n",
              "</svg>\n",
              "  </button>\n",
              "\n",
              "<style>\n",
              "  .colab-df-quickchart {\n",
              "    background-color: #E8F0FE;\n",
              "    border: none;\n",
              "    border-radius: 50%;\n",
              "    cursor: pointer;\n",
              "    display: none;\n",
              "    fill: #1967D2;\n",
              "    height: 32px;\n",
              "    padding: 0 0 0 0;\n",
              "    width: 32px;\n",
              "  }\n",
              "\n",
              "  .colab-df-quickchart:hover {\n",
              "    background-color: #E2EBFA;\n",
              "    box-shadow: 0px 1px 2px rgba(60, 64, 67, 0.3), 0px 1px 3px 1px rgba(60, 64, 67, 0.15);\n",
              "    fill: #174EA6;\n",
              "  }\n",
              "\n",
              "  [theme=dark] .colab-df-quickchart {\n",
              "    background-color: #3B4455;\n",
              "    fill: #D2E3FC;\n",
              "  }\n",
              "\n",
              "  [theme=dark] .colab-df-quickchart:hover {\n",
              "    background-color: #434B5C;\n",
              "    box-shadow: 0px 1px 3px 1px rgba(0, 0, 0, 0.15);\n",
              "    filter: drop-shadow(0px 1px 2px rgba(0, 0, 0, 0.3));\n",
              "    fill: #FFFFFF;\n",
              "  }\n",
              "</style>\n",
              "\n",
              "  <script>\n",
              "    async function quickchart(key) {\n",
              "      const charts = await google.colab.kernel.invokeFunction(\n",
              "          'suggestCharts', [key], {});\n",
              "    }\n",
              "    (() => {\n",
              "      let quickchartButtonEl =\n",
              "        document.querySelector('#df-5aefe9b1-2da0-4037-b597-086ea2fdeb30 button');\n",
              "      quickchartButtonEl.style.display =\n",
              "        google.colab.kernel.accessAllowed ? 'block' : 'none';\n",
              "    })();\n",
              "  </script>\n",
              "</div>\n",
              "    </div>\n",
              "  </div>\n"
            ]
          },
          "metadata": {},
          "execution_count": 3
        }
      ]
    },
    {
      "cell_type": "code",
      "source": [
        "df.info()"
      ],
      "metadata": {
        "colab": {
          "base_uri": "https://localhost:8080/"
        },
        "id": "SdQtrFyewBEr",
        "outputId": "8f982a17-0cb4-4b40-9b58-742d9306ad93"
      },
      "execution_count": 4,
      "outputs": [
        {
          "output_type": "stream",
          "name": "stdout",
          "text": [
            "<class 'pandas.core.frame.DataFrame'>\n",
            "RangeIndex: 294478 entries, 0 to 294477\n",
            "Data columns (total 5 columns):\n",
            " #   Column        Non-Null Count   Dtype \n",
            "---  ------        --------------   ----- \n",
            " 0   user_id       294478 non-null  int64 \n",
            " 1   timestamp     294478 non-null  object\n",
            " 2   group         294478 non-null  object\n",
            " 3   landing_page  294478 non-null  object\n",
            " 4   converted     294478 non-null  int64 \n",
            "dtypes: int64(2), object(3)\n",
            "memory usage: 11.2+ MB\n"
          ]
        }
      ]
    },
    {
      "cell_type": "code",
      "source": [
        "pd.crosstab(df[\"group\"],df['landing_page'])"
      ],
      "metadata": {
        "colab": {
          "base_uri": "https://localhost:8080/",
          "height": 143
        },
        "id": "VJBJ_rlXwEGz",
        "outputId": "e821bac3-a27d-4332-e123-3001e1006c83"
      },
      "execution_count": 5,
      "outputs": [
        {
          "output_type": "execute_result",
          "data": {
            "text/plain": [
              "landing_page  new_page  old_page\n",
              "group                           \n",
              "control           1928    145274\n",
              "treatment       145311      1965"
            ],
            "text/html": [
              "\n",
              "  <div id=\"df-669afaf5-7e7f-45de-bc4e-1becf994e6a2\" class=\"colab-df-container\">\n",
              "    <div>\n",
              "<style scoped>\n",
              "    .dataframe tbody tr th:only-of-type {\n",
              "        vertical-align: middle;\n",
              "    }\n",
              "\n",
              "    .dataframe tbody tr th {\n",
              "        vertical-align: top;\n",
              "    }\n",
              "\n",
              "    .dataframe thead th {\n",
              "        text-align: right;\n",
              "    }\n",
              "</style>\n",
              "<table border=\"1\" class=\"dataframe\">\n",
              "  <thead>\n",
              "    <tr style=\"text-align: right;\">\n",
              "      <th>landing_page</th>\n",
              "      <th>new_page</th>\n",
              "      <th>old_page</th>\n",
              "    </tr>\n",
              "    <tr>\n",
              "      <th>group</th>\n",
              "      <th></th>\n",
              "      <th></th>\n",
              "    </tr>\n",
              "  </thead>\n",
              "  <tbody>\n",
              "    <tr>\n",
              "      <th>control</th>\n",
              "      <td>1928</td>\n",
              "      <td>145274</td>\n",
              "    </tr>\n",
              "    <tr>\n",
              "      <th>treatment</th>\n",
              "      <td>145311</td>\n",
              "      <td>1965</td>\n",
              "    </tr>\n",
              "  </tbody>\n",
              "</table>\n",
              "</div>\n",
              "    <div class=\"colab-df-buttons\">\n",
              "\n",
              "  <div class=\"colab-df-container\">\n",
              "    <button class=\"colab-df-convert\" onclick=\"convertToInteractive('df-669afaf5-7e7f-45de-bc4e-1becf994e6a2')\"\n",
              "            title=\"Convert this dataframe to an interactive table.\"\n",
              "            style=\"display:none;\">\n",
              "\n",
              "  <svg xmlns=\"http://www.w3.org/2000/svg\" height=\"24px\" viewBox=\"0 -960 960 960\">\n",
              "    <path d=\"M120-120v-720h720v720H120Zm60-500h600v-160H180v160Zm220 220h160v-160H400v160Zm0 220h160v-160H400v160ZM180-400h160v-160H180v160Zm440 0h160v-160H620v160ZM180-180h160v-160H180v160Zm440 0h160v-160H620v160Z\"/>\n",
              "  </svg>\n",
              "    </button>\n",
              "\n",
              "  <style>\n",
              "    .colab-df-container {\n",
              "      display:flex;\n",
              "      gap: 12px;\n",
              "    }\n",
              "\n",
              "    .colab-df-convert {\n",
              "      background-color: #E8F0FE;\n",
              "      border: none;\n",
              "      border-radius: 50%;\n",
              "      cursor: pointer;\n",
              "      display: none;\n",
              "      fill: #1967D2;\n",
              "      height: 32px;\n",
              "      padding: 0 0 0 0;\n",
              "      width: 32px;\n",
              "    }\n",
              "\n",
              "    .colab-df-convert:hover {\n",
              "      background-color: #E2EBFA;\n",
              "      box-shadow: 0px 1px 2px rgba(60, 64, 67, 0.3), 0px 1px 3px 1px rgba(60, 64, 67, 0.15);\n",
              "      fill: #174EA6;\n",
              "    }\n",
              "\n",
              "    .colab-df-buttons div {\n",
              "      margin-bottom: 4px;\n",
              "    }\n",
              "\n",
              "    [theme=dark] .colab-df-convert {\n",
              "      background-color: #3B4455;\n",
              "      fill: #D2E3FC;\n",
              "    }\n",
              "\n",
              "    [theme=dark] .colab-df-convert:hover {\n",
              "      background-color: #434B5C;\n",
              "      box-shadow: 0px 1px 3px 1px rgba(0, 0, 0, 0.15);\n",
              "      filter: drop-shadow(0px 1px 2px rgba(0, 0, 0, 0.3));\n",
              "      fill: #FFFFFF;\n",
              "    }\n",
              "  </style>\n",
              "\n",
              "    <script>\n",
              "      const buttonEl =\n",
              "        document.querySelector('#df-669afaf5-7e7f-45de-bc4e-1becf994e6a2 button.colab-df-convert');\n",
              "      buttonEl.style.display =\n",
              "        google.colab.kernel.accessAllowed ? 'block' : 'none';\n",
              "\n",
              "      async function convertToInteractive(key) {\n",
              "        const element = document.querySelector('#df-669afaf5-7e7f-45de-bc4e-1becf994e6a2');\n",
              "        const dataTable =\n",
              "          await google.colab.kernel.invokeFunction('convertToInteractive',\n",
              "                                                    [key], {});\n",
              "        if (!dataTable) return;\n",
              "\n",
              "        const docLinkHtml = 'Like what you see? Visit the ' +\n",
              "          '<a target=\"_blank\" href=https://colab.research.google.com/notebooks/data_table.ipynb>data table notebook</a>'\n",
              "          + ' to learn more about interactive tables.';\n",
              "        element.innerHTML = '';\n",
              "        dataTable['output_type'] = 'display_data';\n",
              "        await google.colab.output.renderOutput(dataTable, element);\n",
              "        const docLink = document.createElement('div');\n",
              "        docLink.innerHTML = docLinkHtml;\n",
              "        element.appendChild(docLink);\n",
              "      }\n",
              "    </script>\n",
              "  </div>\n",
              "\n",
              "    </div>\n",
              "  </div>\n"
            ]
          },
          "metadata": {},
          "execution_count": 5
        }
      ]
    },
    {
      "cell_type": "markdown",
      "source": [
        "There are 294478 rows in the DataFrame, each representing a user session, as well as 5 columns :\n",
        "user_id - The user ID of each session\n",
        "\n",
        "\n",
        "timestamp - Timestamp for the session\n",
        "\n",
        "group - Which group the user was assigned to for that session {control, treatment}\n",
        "\n",
        "landing_page - Which design each user saw on that session {old_page, new_page}\n",
        "\n",
        "converted - Whether the session ended in a conversion or not (binary, 0=not converted, 1=converted)\n",
        "\n",
        "We’ll actually only use the group and converted columns for the analysis.\n",
        "Before we go ahead and sample the data to get our subset, let’s make sure there are no users that have been sampled multiple times."
      ],
      "metadata": {
        "id": "CJm7dMkIw5vZ"
      }
    },
    {
      "cell_type": "code",
      "source": [
        "session_counts = df['user_id'].value_counts(ascending=False)\n",
        "multi_users = session_counts[session_counts > 1].count()\n",
        "print(f'There are {multi_users} users that appear multiple times in the dataset')"
      ],
      "metadata": {
        "colab": {
          "base_uri": "https://localhost:8080/"
        },
        "id": "0XMpw7nqwO-s",
        "outputId": "75dedd96-7aba-4873-d308-4970eaf29b93"
      },
      "execution_count": 6,
      "outputs": [
        {
          "output_type": "stream",
          "name": "stdout",
          "text": [
            "There are 3894 users that appear multiple times in the dataset\n"
          ]
        }
      ]
    },
    {
      "cell_type": "markdown",
      "source": [
        "There are, in fact, 3894 users that appear more than once. Since the number is pretty low, we’ll go ahead and remove them from the DataFrame to avoid sampling the same users twice."
      ],
      "metadata": {
        "id": "2kkzZmxMxErK"
      }
    },
    {
      "cell_type": "code",
      "source": [
        "users_to_drop = session_counts[session_counts > 1].index\n",
        "df = df[~df['user_id'].isin(users_to_drop)]\n",
        "print(f'The updated dataset now has {df.shape[0]} entries')"
      ],
      "metadata": {
        "colab": {
          "base_uri": "https://localhost:8080/"
        },
        "id": "fc7rejsPxD2o",
        "outputId": "33c7c280-d505-4b1b-92f3-74001860e67d"
      },
      "execution_count": 7,
      "outputs": [
        {
          "output_type": "stream",
          "name": "stdout",
          "text": [
            "The updated dataset now has 286690 entries\n"
          ]
        }
      ]
    },
    {
      "cell_type": "markdown",
      "source": [
        "Sampling\n",
        "\n",
        "Now that our DataFrame is nice and clean, we can proceed and sample n=4720 entries for each of the groups. We can use pandas' DataFrame.sample() method to do this, which will perform Simple Random Sampling for us.\n",
        "Note: I’ve set random_state=22 so that the results are reproducible if you feel like following on your own Notebook: just use random_state=22 in your function and you should get the same sample as I did."
      ],
      "metadata": {
        "id": "GsrtRUHOxMOp"
      }
    },
    {
      "cell_type": "code",
      "source": [
        "control_sample= df [df ['group'] == 'control'].sample (n=required_n, random_state=22)\n",
        "treatment_sample = df [df['group'] =='treatment'].sample (n=required_n, random_state=22)\n",
        "\n",
        "ab_test = pd.concat([control_sample, treatment_sample], axis=0)\n",
        "ab_test.reset_index (drop=True, inplace=True)\n",
        "ab_test"
      ],
      "metadata": {
        "colab": {
          "base_uri": "https://localhost:8080/",
          "height": 424
        },
        "id": "eccrLD74xM0X",
        "outputId": "5df7a9c0-45b2-40a6-acad-78787af2c68b"
      },
      "execution_count": 8,
      "outputs": [
        {
          "output_type": "execute_result",
          "data": {
            "text/plain": [
              "      user_id                   timestamp      group landing_page  converted\n",
              "0      763854  2017-01-21 03:43:17.188315    control     old_page          0\n",
              "1      690555  2017-01-18 06:38:13.079449    control     old_page          0\n",
              "2      861520  2017-01-06 21:13:40.044766    control     old_page          0\n",
              "3      630778  2017-01-05 16:42:36.995204    control     old_page          0\n",
              "4      656634  2017-01-04 15:31:21.676130    control     old_page          0\n",
              "...       ...                         ...        ...          ...        ...\n",
              "9435   908512  2017-01-14 22:02:29.922674  treatment     new_page          0\n",
              "9436   873211  2017-01-05 00:57:16.167151  treatment     new_page          0\n",
              "9437   631276  2017-01-20 18:56:58.167809  treatment     new_page          0\n",
              "9438   662301  2017-01-03 08:10:57.768806  treatment     new_page          0\n",
              "9439   944623  2017-01-19 10:56:01.648653  treatment     new_page          1\n",
              "\n",
              "[9440 rows x 5 columns]"
            ],
            "text/html": [
              "\n",
              "  <div id=\"df-9b5624bc-e363-4a87-906d-469624c3471d\" class=\"colab-df-container\">\n",
              "    <div>\n",
              "<style scoped>\n",
              "    .dataframe tbody tr th:only-of-type {\n",
              "        vertical-align: middle;\n",
              "    }\n",
              "\n",
              "    .dataframe tbody tr th {\n",
              "        vertical-align: top;\n",
              "    }\n",
              "\n",
              "    .dataframe thead th {\n",
              "        text-align: right;\n",
              "    }\n",
              "</style>\n",
              "<table border=\"1\" class=\"dataframe\">\n",
              "  <thead>\n",
              "    <tr style=\"text-align: right;\">\n",
              "      <th></th>\n",
              "      <th>user_id</th>\n",
              "      <th>timestamp</th>\n",
              "      <th>group</th>\n",
              "      <th>landing_page</th>\n",
              "      <th>converted</th>\n",
              "    </tr>\n",
              "  </thead>\n",
              "  <tbody>\n",
              "    <tr>\n",
              "      <th>0</th>\n",
              "      <td>763854</td>\n",
              "      <td>2017-01-21 03:43:17.188315</td>\n",
              "      <td>control</td>\n",
              "      <td>old_page</td>\n",
              "      <td>0</td>\n",
              "    </tr>\n",
              "    <tr>\n",
              "      <th>1</th>\n",
              "      <td>690555</td>\n",
              "      <td>2017-01-18 06:38:13.079449</td>\n",
              "      <td>control</td>\n",
              "      <td>old_page</td>\n",
              "      <td>0</td>\n",
              "    </tr>\n",
              "    <tr>\n",
              "      <th>2</th>\n",
              "      <td>861520</td>\n",
              "      <td>2017-01-06 21:13:40.044766</td>\n",
              "      <td>control</td>\n",
              "      <td>old_page</td>\n",
              "      <td>0</td>\n",
              "    </tr>\n",
              "    <tr>\n",
              "      <th>3</th>\n",
              "      <td>630778</td>\n",
              "      <td>2017-01-05 16:42:36.995204</td>\n",
              "      <td>control</td>\n",
              "      <td>old_page</td>\n",
              "      <td>0</td>\n",
              "    </tr>\n",
              "    <tr>\n",
              "      <th>4</th>\n",
              "      <td>656634</td>\n",
              "      <td>2017-01-04 15:31:21.676130</td>\n",
              "      <td>control</td>\n",
              "      <td>old_page</td>\n",
              "      <td>0</td>\n",
              "    </tr>\n",
              "    <tr>\n",
              "      <th>...</th>\n",
              "      <td>...</td>\n",
              "      <td>...</td>\n",
              "      <td>...</td>\n",
              "      <td>...</td>\n",
              "      <td>...</td>\n",
              "    </tr>\n",
              "    <tr>\n",
              "      <th>9435</th>\n",
              "      <td>908512</td>\n",
              "      <td>2017-01-14 22:02:29.922674</td>\n",
              "      <td>treatment</td>\n",
              "      <td>new_page</td>\n",
              "      <td>0</td>\n",
              "    </tr>\n",
              "    <tr>\n",
              "      <th>9436</th>\n",
              "      <td>873211</td>\n",
              "      <td>2017-01-05 00:57:16.167151</td>\n",
              "      <td>treatment</td>\n",
              "      <td>new_page</td>\n",
              "      <td>0</td>\n",
              "    </tr>\n",
              "    <tr>\n",
              "      <th>9437</th>\n",
              "      <td>631276</td>\n",
              "      <td>2017-01-20 18:56:58.167809</td>\n",
              "      <td>treatment</td>\n",
              "      <td>new_page</td>\n",
              "      <td>0</td>\n",
              "    </tr>\n",
              "    <tr>\n",
              "      <th>9438</th>\n",
              "      <td>662301</td>\n",
              "      <td>2017-01-03 08:10:57.768806</td>\n",
              "      <td>treatment</td>\n",
              "      <td>new_page</td>\n",
              "      <td>0</td>\n",
              "    </tr>\n",
              "    <tr>\n",
              "      <th>9439</th>\n",
              "      <td>944623</td>\n",
              "      <td>2017-01-19 10:56:01.648653</td>\n",
              "      <td>treatment</td>\n",
              "      <td>new_page</td>\n",
              "      <td>1</td>\n",
              "    </tr>\n",
              "  </tbody>\n",
              "</table>\n",
              "<p>9440 rows × 5 columns</p>\n",
              "</div>\n",
              "    <div class=\"colab-df-buttons\">\n",
              "\n",
              "  <div class=\"colab-df-container\">\n",
              "    <button class=\"colab-df-convert\" onclick=\"convertToInteractive('df-9b5624bc-e363-4a87-906d-469624c3471d')\"\n",
              "            title=\"Convert this dataframe to an interactive table.\"\n",
              "            style=\"display:none;\">\n",
              "\n",
              "  <svg xmlns=\"http://www.w3.org/2000/svg\" height=\"24px\" viewBox=\"0 -960 960 960\">\n",
              "    <path d=\"M120-120v-720h720v720H120Zm60-500h600v-160H180v160Zm220 220h160v-160H400v160Zm0 220h160v-160H400v160ZM180-400h160v-160H180v160Zm440 0h160v-160H620v160ZM180-180h160v-160H180v160Zm440 0h160v-160H620v160Z\"/>\n",
              "  </svg>\n",
              "    </button>\n",
              "\n",
              "  <style>\n",
              "    .colab-df-container {\n",
              "      display:flex;\n",
              "      gap: 12px;\n",
              "    }\n",
              "\n",
              "    .colab-df-convert {\n",
              "      background-color: #E8F0FE;\n",
              "      border: none;\n",
              "      border-radius: 50%;\n",
              "      cursor: pointer;\n",
              "      display: none;\n",
              "      fill: #1967D2;\n",
              "      height: 32px;\n",
              "      padding: 0 0 0 0;\n",
              "      width: 32px;\n",
              "    }\n",
              "\n",
              "    .colab-df-convert:hover {\n",
              "      background-color: #E2EBFA;\n",
              "      box-shadow: 0px 1px 2px rgba(60, 64, 67, 0.3), 0px 1px 3px 1px rgba(60, 64, 67, 0.15);\n",
              "      fill: #174EA6;\n",
              "    }\n",
              "\n",
              "    .colab-df-buttons div {\n",
              "      margin-bottom: 4px;\n",
              "    }\n",
              "\n",
              "    [theme=dark] .colab-df-convert {\n",
              "      background-color: #3B4455;\n",
              "      fill: #D2E3FC;\n",
              "    }\n",
              "\n",
              "    [theme=dark] .colab-df-convert:hover {\n",
              "      background-color: #434B5C;\n",
              "      box-shadow: 0px 1px 3px 1px rgba(0, 0, 0, 0.15);\n",
              "      filter: drop-shadow(0px 1px 2px rgba(0, 0, 0, 0.3));\n",
              "      fill: #FFFFFF;\n",
              "    }\n",
              "  </style>\n",
              "\n",
              "    <script>\n",
              "      const buttonEl =\n",
              "        document.querySelector('#df-9b5624bc-e363-4a87-906d-469624c3471d button.colab-df-convert');\n",
              "      buttonEl.style.display =\n",
              "        google.colab.kernel.accessAllowed ? 'block' : 'none';\n",
              "\n",
              "      async function convertToInteractive(key) {\n",
              "        const element = document.querySelector('#df-9b5624bc-e363-4a87-906d-469624c3471d');\n",
              "        const dataTable =\n",
              "          await google.colab.kernel.invokeFunction('convertToInteractive',\n",
              "                                                    [key], {});\n",
              "        if (!dataTable) return;\n",
              "\n",
              "        const docLinkHtml = 'Like what you see? Visit the ' +\n",
              "          '<a target=\"_blank\" href=https://colab.research.google.com/notebooks/data_table.ipynb>data table notebook</a>'\n",
              "          + ' to learn more about interactive tables.';\n",
              "        element.innerHTML = '';\n",
              "        dataTable['output_type'] = 'display_data';\n",
              "        await google.colab.output.renderOutput(dataTable, element);\n",
              "        const docLink = document.createElement('div');\n",
              "        docLink.innerHTML = docLinkHtml;\n",
              "        element.appendChild(docLink);\n",
              "      }\n",
              "    </script>\n",
              "  </div>\n",
              "\n",
              "\n",
              "<div id=\"df-18433a79-6cb4-4401-bece-849f36fa1bf0\">\n",
              "  <button class=\"colab-df-quickchart\" onclick=\"quickchart('df-18433a79-6cb4-4401-bece-849f36fa1bf0')\"\n",
              "            title=\"Suggest charts.\"\n",
              "            style=\"display:none;\">\n",
              "\n",
              "<svg xmlns=\"http://www.w3.org/2000/svg\" height=\"24px\"viewBox=\"0 0 24 24\"\n",
              "     width=\"24px\">\n",
              "    <g>\n",
              "        <path d=\"M19 3H5c-1.1 0-2 .9-2 2v14c0 1.1.9 2 2 2h14c1.1 0 2-.9 2-2V5c0-1.1-.9-2-2-2zM9 17H7v-7h2v7zm4 0h-2V7h2v10zm4 0h-2v-4h2v4z\"/>\n",
              "    </g>\n",
              "</svg>\n",
              "  </button>\n",
              "\n",
              "<style>\n",
              "  .colab-df-quickchart {\n",
              "    background-color: #E8F0FE;\n",
              "    border: none;\n",
              "    border-radius: 50%;\n",
              "    cursor: pointer;\n",
              "    display: none;\n",
              "    fill: #1967D2;\n",
              "    height: 32px;\n",
              "    padding: 0 0 0 0;\n",
              "    width: 32px;\n",
              "  }\n",
              "\n",
              "  .colab-df-quickchart:hover {\n",
              "    background-color: #E2EBFA;\n",
              "    box-shadow: 0px 1px 2px rgba(60, 64, 67, 0.3), 0px 1px 3px 1px rgba(60, 64, 67, 0.15);\n",
              "    fill: #174EA6;\n",
              "  }\n",
              "\n",
              "  [theme=dark] .colab-df-quickchart {\n",
              "    background-color: #3B4455;\n",
              "    fill: #D2E3FC;\n",
              "  }\n",
              "\n",
              "  [theme=dark] .colab-df-quickchart:hover {\n",
              "    background-color: #434B5C;\n",
              "    box-shadow: 0px 1px 3px 1px rgba(0, 0, 0, 0.15);\n",
              "    filter: drop-shadow(0px 1px 2px rgba(0, 0, 0, 0.3));\n",
              "    fill: #FFFFFF;\n",
              "  }\n",
              "</style>\n",
              "\n",
              "  <script>\n",
              "    async function quickchart(key) {\n",
              "      const charts = await google.colab.kernel.invokeFunction(\n",
              "          'suggestCharts', [key], {});\n",
              "    }\n",
              "    (() => {\n",
              "      let quickchartButtonEl =\n",
              "        document.querySelector('#df-18433a79-6cb4-4401-bece-849f36fa1bf0 button');\n",
              "      quickchartButtonEl.style.display =\n",
              "        google.colab.kernel.accessAllowed ? 'block' : 'none';\n",
              "    })();\n",
              "  </script>\n",
              "</div>\n",
              "    </div>\n",
              "  </div>\n"
            ]
          },
          "metadata": {},
          "execution_count": 8
        }
      ]
    },
    {
      "cell_type": "code",
      "source": [
        "ab_test.info()"
      ],
      "metadata": {
        "colab": {
          "base_uri": "https://localhost:8080/"
        },
        "id": "27FZ0DYCy-Fy",
        "outputId": "56a58bb1-afef-4549-cc08-61a5313b6637"
      },
      "execution_count": 9,
      "outputs": [
        {
          "output_type": "stream",
          "name": "stdout",
          "text": [
            "<class 'pandas.core.frame.DataFrame'>\n",
            "RangeIndex: 9440 entries, 0 to 9439\n",
            "Data columns (total 5 columns):\n",
            " #   Column        Non-Null Count  Dtype \n",
            "---  ------        --------------  ----- \n",
            " 0   user_id       9440 non-null   int64 \n",
            " 1   timestamp     9440 non-null   object\n",
            " 2   group         9440 non-null   object\n",
            " 3   landing_page  9440 non-null   object\n",
            " 4   converted     9440 non-null   int64 \n",
            "dtypes: int64(2), object(3)\n",
            "memory usage: 368.9+ KB\n"
          ]
        }
      ]
    },
    {
      "cell_type": "code",
      "source": [
        "ab_test.group.value_counts()"
      ],
      "metadata": {
        "colab": {
          "base_uri": "https://localhost:8080/"
        },
        "id": "Q1WIiNyhzEmY",
        "outputId": "b31d24b3-6c67-4e0c-806d-4c0703978eac"
      },
      "execution_count": 10,
      "outputs": [
        {
          "output_type": "execute_result",
          "data": {
            "text/plain": [
              "control      4720\n",
              "treatment    4720\n",
              "Name: group, dtype: int64"
            ]
          },
          "metadata": {},
          "execution_count": 10
        }
      ]
    },
    {
      "cell_type": "markdown",
      "source": [
        "Great, looks like everything went as planned, and we are now ready to analyse our results."
      ],
      "metadata": {
        "id": "Lfhsv8r9zM_5"
      }
    },
    {
      "cell_type": "markdown",
      "source": [
        "Visualising the results\n",
        "The first thing we can do is to calculate some basic statistics to get an idea of what our samples look like."
      ],
      "metadata": {
        "id": "DZvwdlr3zPhx"
      }
    },
    {
      "cell_type": "code",
      "source": [
        "conversion_rates = ab_test.groupby('group')['converted']\n",
        "std_p = lambda x: np.std(x, ddof=0) # Std. deviation of the proportion\n",
        "se_p = lambda x: stats.sem(x, ddof=0)  # # Std. error of the proportion (std / sqrt(n))\n",
        "\n",
        "conversion_rates = conversion_rates.agg([np.mean, std_p, se_p])\n",
        "conversion_rates.columns = ['conversion_rate', 'std_deviation','std_error']\n",
        "conversion_rates.style.format('{:.3f}')\n",
        "#conversion rate std_deviation std_error\n"
      ],
      "metadata": {
        "colab": {
          "base_uri": "https://localhost:8080/",
          "height": 143
        },
        "id": "1wpXIoa5zNOQ",
        "outputId": "e13711b6-2e48-4b1e-fbcf-57772e8ceb9d"
      },
      "execution_count": 11,
      "outputs": [
        {
          "output_type": "execute_result",
          "data": {
            "text/plain": [
              "<pandas.io.formats.style.Styler at 0x787764e2a920>"
            ],
            "text/html": [
              "<style type=\"text/css\">\n",
              "</style>\n",
              "<table id=\"T_afd99\" class=\"dataframe\">\n",
              "  <thead>\n",
              "    <tr>\n",
              "      <th class=\"blank level0\" >&nbsp;</th>\n",
              "      <th id=\"T_afd99_level0_col0\" class=\"col_heading level0 col0\" >conversion_rate</th>\n",
              "      <th id=\"T_afd99_level0_col1\" class=\"col_heading level0 col1\" >std_deviation</th>\n",
              "      <th id=\"T_afd99_level0_col2\" class=\"col_heading level0 col2\" >std_error</th>\n",
              "    </tr>\n",
              "    <tr>\n",
              "      <th class=\"index_name level0\" >group</th>\n",
              "      <th class=\"blank col0\" >&nbsp;</th>\n",
              "      <th class=\"blank col1\" >&nbsp;</th>\n",
              "      <th class=\"blank col2\" >&nbsp;</th>\n",
              "    </tr>\n",
              "  </thead>\n",
              "  <tbody>\n",
              "    <tr>\n",
              "      <th id=\"T_afd99_level0_row0\" class=\"row_heading level0 row0\" >control</th>\n",
              "      <td id=\"T_afd99_row0_col0\" class=\"data row0 col0\" >0.123</td>\n",
              "      <td id=\"T_afd99_row0_col1\" class=\"data row0 col1\" >0.329</td>\n",
              "      <td id=\"T_afd99_row0_col2\" class=\"data row0 col2\" >0.005</td>\n",
              "    </tr>\n",
              "    <tr>\n",
              "      <th id=\"T_afd99_level0_row1\" class=\"row_heading level0 row1\" >treatment</th>\n",
              "      <td id=\"T_afd99_row1_col0\" class=\"data row1 col0\" >0.126</td>\n",
              "      <td id=\"T_afd99_row1_col1\" class=\"data row1 col1\" >0.331</td>\n",
              "      <td id=\"T_afd99_row1_col2\" class=\"data row1 col2\" >0.005</td>\n",
              "    </tr>\n",
              "  </tbody>\n",
              "</table>\n"
            ]
          },
          "metadata": {},
          "execution_count": 11
        }
      ]
    },
    {
      "cell_type": "markdown",
      "source": [
        "Judging by the stats above, it does look like our two designs performed very similarly, with our new design performing slightly better, approx. 12.3% vs. 12.6% conversion rate.\n",
        "Plotting the data will make these results easier to grasp:\n"
      ],
      "metadata": {
        "id": "TjchdDA40lL5"
      }
    },
    {
      "cell_type": "code",
      "source": [
        "n_new = ab_test.query('group==\"treatment\"').shape[0]\n",
        "n_new"
      ],
      "metadata": {
        "colab": {
          "base_uri": "https://localhost:8080/"
        },
        "id": "IoPGpVgKooz0",
        "outputId": "92f02c29-bead-4d19-c83e-8edaef6f9dbd"
      },
      "execution_count": 12,
      "outputs": [
        {
          "output_type": "execute_result",
          "data": {
            "text/plain": [
              "4720"
            ]
          },
          "metadata": {},
          "execution_count": 12
        }
      ]
    },
    {
      "cell_type": "code",
      "source": [
        "n_old = ab_test.query('group==\"control\"').shape[0]\n",
        "n_old"
      ],
      "metadata": {
        "colab": {
          "base_uri": "https://localhost:8080/"
        },
        "id": "0CzqCGRworU7",
        "outputId": "0e31f935-fd13-44e8-a662-521859539acc"
      },
      "execution_count": 13,
      "outputs": [
        {
          "output_type": "execute_result",
          "data": {
            "text/plain": [
              "4720"
            ]
          },
          "metadata": {},
          "execution_count": 13
        }
      ]
    },
    {
      "cell_type": "code",
      "source": [
        "new_page_converted = np.random.binomial(n_new,p=0.123,size=n_old)"
      ],
      "metadata": {
        "id": "QoM6W8PAo6oQ"
      },
      "execution_count": 23,
      "outputs": []
    },
    {
      "cell_type": "code",
      "source": [
        "old_page_converted = np.random.binomial(n_old,p=0.126,size=n_old)"
      ],
      "metadata": {
        "id": "yRcbTW18p9DA"
      },
      "execution_count": 24,
      "outputs": []
    },
    {
      "cell_type": "code",
      "source": [
        "plt.hist(old_page_converted)\n",
        "plt.show();"
      ],
      "metadata": {
        "colab": {
          "base_uri": "https://localhost:8080/",
          "height": 1000
        },
        "id": "WQOBbEaBqAp0",
        "outputId": "70952133-5f02-486d-c378-7323c7df0bc0"
      },
      "execution_count": 25,
      "outputs": [
        {
          "output_type": "stream",
          "name": "stderr",
          "text": [
            "WARNING:matplotlib.font_manager:findfont: Font family 'Helvetica' not found.\n",
            "WARNING:matplotlib.font_manager:findfont: Font family 'Helvetica' not found.\n",
            "WARNING:matplotlib.font_manager:findfont: Font family 'Helvetica' not found.\n",
            "WARNING:matplotlib.font_manager:findfont: Font family 'Helvetica' not found.\n",
            "WARNING:matplotlib.font_manager:findfont: Font family 'Helvetica' not found.\n",
            "WARNING:matplotlib.font_manager:findfont: Font family 'Helvetica' not found.\n",
            "WARNING:matplotlib.font_manager:findfont: Font family 'Helvetica' not found.\n",
            "WARNING:matplotlib.font_manager:findfont: Font family 'Helvetica' not found.\n",
            "WARNING:matplotlib.font_manager:findfont: Font family 'Helvetica' not found.\n",
            "WARNING:matplotlib.font_manager:findfont: Font family 'Helvetica' not found.\n",
            "WARNING:matplotlib.font_manager:findfont: Font family 'Helvetica' not found.\n",
            "WARNING:matplotlib.font_manager:findfont: Font family 'Helvetica' not found.\n",
            "WARNING:matplotlib.font_manager:findfont: Font family 'Helvetica' not found.\n",
            "WARNING:matplotlib.font_manager:findfont: Font family 'Helvetica' not found.\n",
            "WARNING:matplotlib.font_manager:findfont: Font family 'Helvetica' not found.\n",
            "WARNING:matplotlib.font_manager:findfont: Font family 'Helvetica' not found.\n",
            "WARNING:matplotlib.font_manager:findfont: Font family 'Helvetica' not found.\n",
            "WARNING:matplotlib.font_manager:findfont: Font family 'Helvetica' not found.\n",
            "WARNING:matplotlib.font_manager:findfont: Font family 'Helvetica' not found.\n",
            "WARNING:matplotlib.font_manager:findfont: Font family 'Helvetica' not found.\n",
            "WARNING:matplotlib.font_manager:findfont: Font family 'Helvetica' not found.\n",
            "WARNING:matplotlib.font_manager:findfont: Font family 'Helvetica' not found.\n",
            "WARNING:matplotlib.font_manager:findfont: Font family 'Helvetica' not found.\n",
            "WARNING:matplotlib.font_manager:findfont: Font family 'Helvetica' not found.\n",
            "WARNING:matplotlib.font_manager:findfont: Font family 'Helvetica' not found.\n",
            "WARNING:matplotlib.font_manager:findfont: Font family 'Helvetica' not found.\n",
            "WARNING:matplotlib.font_manager:findfont: Font family 'Helvetica' not found.\n",
            "WARNING:matplotlib.font_manager:findfont: Font family 'Helvetica' not found.\n",
            "WARNING:matplotlib.font_manager:findfont: Font family 'Helvetica' not found.\n",
            "WARNING:matplotlib.font_manager:findfont: Font family 'Helvetica' not found.\n",
            "WARNING:matplotlib.font_manager:findfont: Font family 'Helvetica' not found.\n",
            "WARNING:matplotlib.font_manager:findfont: Font family 'Helvetica' not found.\n",
            "WARNING:matplotlib.font_manager:findfont: Font family 'Helvetica' not found.\n",
            "WARNING:matplotlib.font_manager:findfont: Font family 'Helvetica' not found.\n",
            "WARNING:matplotlib.font_manager:findfont: Font family 'Helvetica' not found.\n",
            "WARNING:matplotlib.font_manager:findfont: Font family 'Helvetica' not found.\n",
            "WARNING:matplotlib.font_manager:findfont: Font family 'Helvetica' not found.\n",
            "WARNING:matplotlib.font_manager:findfont: Font family 'Helvetica' not found.\n",
            "WARNING:matplotlib.font_manager:findfont: Font family 'Helvetica' not found.\n",
            "WARNING:matplotlib.font_manager:findfont: Font family 'Helvetica' not found.\n",
            "WARNING:matplotlib.font_manager:findfont: Font family 'Helvetica' not found.\n",
            "WARNING:matplotlib.font_manager:findfont: Font family 'Helvetica' not found.\n",
            "WARNING:matplotlib.font_manager:findfont: Font family 'Helvetica' not found.\n",
            "WARNING:matplotlib.font_manager:findfont: Font family 'Helvetica' not found.\n",
            "WARNING:matplotlib.font_manager:findfont: Font family 'Helvetica' not found.\n"
          ]
        },
        {
          "output_type": "display_data",
          "data": {
            "text/plain": [
              "<Figure size 640x480 with 1 Axes>"
            ],
            "image/png": "[encoded data removed]"
          },
          "metadata": {}
        }
      ]
    },
    {
      "cell_type": "code",
      "source": [
        "# Parameters\n",
        "n = n_new    # Number of trials\n",
        "p = 0.123    # Probability of success\n",
        "size = n_new  # Number of experiments\n",
        "\n",
        "# Generate binomial outcomes\n",
        "outcomes = np.random.binomial(n=n, p=p, size=size)\n",
        "\n",
        "# Count the occurrences of each outcome\n",
        "unique_outcomes, counts = np.unique(outcomes, return_counts=True)\n",
        "\n",
        "# Print the results\n",
        "for outcome, count in zip(unique_outcomes, counts):\n",
        "    print(f\"Outcome {outcome}: Count {count}\")"
      ],
      "metadata": {
        "colab": {
          "base_uri": "https://localhost:8080/"
        },
        "id": "fy4xslMTwRr5",
        "outputId": "37cfd950-fed9-4a0f-cf24-54c5d17d2bbc"
      },
      "execution_count": 26,
      "outputs": [
        {
          "output_type": "stream",
          "name": "stdout",
          "text": [
            "Outcome 487: Count 1\n",
            "Outcome 500: Count 1\n",
            "Outcome 501: Count 1\n",
            "Outcome 503: Count 1\n",
            "Outcome 506: Count 1\n",
            "Outcome 513: Count 1\n",
            "Outcome 514: Count 2\n",
            "Outcome 515: Count 1\n",
            "Outcome 517: Count 2\n",
            "Outcome 518: Count 1\n",
            "Outcome 519: Count 2\n",
            "Outcome 520: Count 1\n",
            "Outcome 521: Count 2\n",
            "Outcome 522: Count 2\n",
            "Outcome 523: Count 2\n",
            "Outcome 524: Count 2\n",
            "Outcome 525: Count 2\n",
            "Outcome 526: Count 7\n",
            "Outcome 527: Count 3\n",
            "Outcome 528: Count 7\n",
            "Outcome 529: Count 6\n",
            "Outcome 530: Count 2\n",
            "Outcome 531: Count 8\n",
            "Outcome 532: Count 6\n",
            "Outcome 533: Count 3\n",
            "Outcome 534: Count 12\n",
            "Outcome 535: Count 18\n",
            "Outcome 536: Count 11\n",
            "Outcome 537: Count 12\n",
            "Outcome 538: Count 18\n",
            "Outcome 539: Count 17\n",
            "Outcome 540: Count 15\n",
            "Outcome 541: Count 13\n",
            "Outcome 542: Count 15\n",
            "Outcome 543: Count 21\n",
            "Outcome 544: Count 25\n",
            "Outcome 545: Count 25\n",
            "Outcome 546: Count 22\n",
            "Outcome 547: Count 20\n",
            "Outcome 548: Count 34\n",
            "Outcome 549: Count 32\n",
            "Outcome 550: Count 32\n",
            "Outcome 551: Count 28\n",
            "Outcome 552: Count 40\n",
            "Outcome 553: Count 46\n",
            "Outcome 554: Count 49\n",
            "Outcome 555: Count 38\n",
            "Outcome 556: Count 45\n",
            "Outcome 557: Count 50\n",
            "Outcome 558: Count 46\n",
            "Outcome 559: Count 39\n",
            "Outcome 560: Count 55\n",
            "Outcome 561: Count 73\n",
            "Outcome 562: Count 59\n",
            "Outcome 563: Count 63\n",
            "Outcome 564: Count 56\n",
            "Outcome 565: Count 79\n",
            "Outcome 566: Count 71\n",
            "Outcome 567: Count 80\n",
            "Outcome 568: Count 72\n",
            "Outcome 569: Count 86\n",
            "Outcome 570: Count 75\n",
            "Outcome 571: Count 83\n",
            "Outcome 572: Count 82\n",
            "Outcome 573: Count 86\n",
            "Outcome 574: Count 73\n",
            "Outcome 575: Count 89\n",
            "Outcome 576: Count 73\n",
            "Outcome 577: Count 90\n",
            "Outcome 578: Count 68\n",
            "Outcome 579: Count 88\n",
            "Outcome 580: Count 88\n",
            "Outcome 581: Count 82\n",
            "Outcome 582: Count 95\n",
            "Outcome 583: Count 77\n",
            "Outcome 584: Count 80\n",
            "Outcome 585: Count 75\n",
            "Outcome 586: Count 99\n",
            "Outcome 587: Count 79\n",
            "Outcome 588: Count 84\n",
            "Outcome 589: Count 84\n",
            "Outcome 590: Count 83\n",
            "Outcome 591: Count 80\n",
            "Outcome 592: Count 69\n",
            "Outcome 593: Count 66\n",
            "Outcome 594: Count 63\n",
            "Outcome 595: Count 67\n",
            "Outcome 596: Count 57\n",
            "Outcome 597: Count 66\n",
            "Outcome 598: Count 55\n",
            "Outcome 599: Count 47\n",
            "Outcome 600: Count 56\n",
            "Outcome 601: Count 62\n",
            "Outcome 602: Count 63\n",
            "Outcome 603: Count 55\n",
            "Outcome 604: Count 56\n",
            "Outcome 605: Count 40\n",
            "Outcome 606: Count 38\n",
            "Outcome 607: Count 37\n",
            "Outcome 608: Count 40\n",
            "Outcome 609: Count 41\n",
            "Outcome 610: Count 38\n",
            "Outcome 611: Count 39\n",
            "Outcome 612: Count 26\n",
            "Outcome 613: Count 36\n",
            "Outcome 614: Count 27\n",
            "Outcome 615: Count 22\n",
            "Outcome 616: Count 23\n",
            "Outcome 617: Count 20\n",
            "Outcome 618: Count 17\n",
            "Outcome 619: Count 11\n",
            "Outcome 620: Count 16\n",
            "Outcome 621: Count 19\n",
            "Outcome 622: Count 14\n",
            "Outcome 623: Count 14\n",
            "Outcome 624: Count 17\n",
            "Outcome 625: Count 12\n",
            "Outcome 626: Count 11\n",
            "Outcome 627: Count 7\n",
            "Outcome 628: Count 11\n",
            "Outcome 629: Count 7\n",
            "Outcome 630: Count 11\n",
            "Outcome 631: Count 1\n",
            "Outcome 632: Count 2\n",
            "Outcome 633: Count 3\n",
            "Outcome 634: Count 9\n",
            "Outcome 635: Count 4\n",
            "Outcome 636: Count 2\n",
            "Outcome 637: Count 1\n",
            "Outcome 638: Count 3\n",
            "Outcome 639: Count 4\n",
            "Outcome 640: Count 1\n",
            "Outcome 641: Count 4\n",
            "Outcome 642: Count 1\n",
            "Outcome 643: Count 4\n",
            "Outcome 644: Count 1\n",
            "Outcome 645: Count 1\n",
            "Outcome 649: Count 1\n",
            "Outcome 650: Count 1\n",
            "Outcome 651: Count 1\n",
            "Outcome 653: Count 1\n",
            "Outcome 654: Count 1\n",
            "Outcome 655: Count 1\n"
          ]
        }
      ]
    },
    {
      "cell_type": "code",
      "source": [
        "# Plotting\n",
        "fig, ax = plt.subplots()\n",
        "conversion_rates['conversion_rate'].plot(kind='bar', yerr=conversion_rates['std_error'], ax=ax, capsize=5)\n",
        "\n",
        "# Adding labels and title\n",
        "ax.set_ylabel('Conversion Rate')\n",
        "ax.set_xlabel('Group')\n",
        "ax.set_title('Conversion Rates by Group')\n",
        "\n",
        "# Show the plot\n",
        "plt.show()"
      ],
      "metadata": {
        "colab": {
          "base_uri": "https://localhost:8080/",
          "height": 1000
        },
        "id": "NDeTnxyU0lhg",
        "outputId": "2a22aa84-88eb-470f-d86f-f803f9031118"
      },
      "execution_count": null,
      "outputs": [
        {
          "output_type": "stream",
          "name": "stderr",
          "text": [
            "WARNING:matplotlib.font_manager:findfont: Font family 'Helvetica' not found.\n",
            "WARNING:matplotlib.font_manager:findfont: Font family 'Helvetica' not found.\n",
            "WARNING:matplotlib.font_manager:findfont: Font family 'Helvetica' not found.\n",
            "WARNING:matplotlib.font_manager:findfont: Font family 'Helvetica' not found.\n",
            "WARNING:matplotlib.font_manager:findfont: Font family 'Helvetica' not found.\n",
            "WARNING:matplotlib.font_manager:findfont: Font family 'Helvetica' not found.\n",
            "WARNING:matplotlib.font_manager:findfont: Font family 'Helvetica' not found.\n",
            "WARNING:matplotlib.font_manager:findfont: Font family 'Helvetica' not found.\n",
            "WARNING:matplotlib.font_manager:findfont: Font family 'Helvetica' not found.\n",
            "WARNING:matplotlib.font_manager:findfont: Font family 'Helvetica' not found.\n",
            "WARNING:matplotlib.font_manager:findfont: Font family 'Helvetica' not found.\n",
            "WARNING:matplotlib.font_manager:findfont: Font family 'Helvetica' not found.\n",
            "WARNING:matplotlib.font_manager:findfont: Font family 'Helvetica' not found.\n",
            "WARNING:matplotlib.font_manager:findfont: Font family 'Helvetica' not found.\n",
            "WARNING:matplotlib.font_manager:findfont: Font family 'Helvetica' not found.\n",
            "WARNING:matplotlib.font_manager:findfont: Font family 'Helvetica' not found.\n",
            "WARNING:matplotlib.font_manager:findfont: Font family 'Helvetica' not found.\n",
            "WARNING:matplotlib.font_manager:findfont: Font family 'Helvetica' not found.\n",
            "WARNING:matplotlib.font_manager:findfont: Font family 'Helvetica' not found.\n",
            "WARNING:matplotlib.font_manager:findfont: Font family 'Helvetica' not found.\n",
            "WARNING:matplotlib.font_manager:findfont: Font family 'Helvetica' not found.\n",
            "WARNING:matplotlib.font_manager:findfont: Font family 'Helvetica' not found.\n",
            "WARNING:matplotlib.font_manager:findfont: Font family 'Helvetica' not found.\n",
            "WARNING:matplotlib.font_manager:findfont: Font family 'Helvetica' not found.\n",
            "WARNING:matplotlib.font_manager:findfont: Font family 'Helvetica' not found.\n",
            "WARNING:matplotlib.font_manager:findfont: Font family 'Helvetica' not found.\n",
            "WARNING:matplotlib.font_manager:findfont: Font family 'Helvetica' not found.\n",
            "WARNING:matplotlib.font_manager:findfont: Font family 'Helvetica' not found.\n",
            "WARNING:matplotlib.font_manager:findfont: Font family 'Helvetica' not found.\n",
            "WARNING:matplotlib.font_manager:findfont: Font family 'Helvetica' not found.\n",
            "WARNING:matplotlib.font_manager:findfont: Font family 'Helvetica' not found.\n",
            "WARNING:matplotlib.font_manager:findfont: Font family 'Helvetica' not found.\n",
            "WARNING:matplotlib.font_manager:findfont: Font family 'Helvetica' not found.\n",
            "WARNING:matplotlib.font_manager:findfont: Font family 'Helvetica' not found.\n",
            "WARNING:matplotlib.font_manager:findfont: Font family 'Helvetica' not found.\n",
            "WARNING:matplotlib.font_manager:findfont: Font family 'Helvetica' not found.\n",
            "WARNING:matplotlib.font_manager:findfont: Font family 'Helvetica' not found.\n",
            "WARNING:matplotlib.font_manager:findfont: Font family 'Helvetica' not found.\n",
            "WARNING:matplotlib.font_manager:findfont: Font family 'Helvetica' not found.\n",
            "WARNING:matplotlib.font_manager:findfont: Font family 'Helvetica' not found.\n",
            "WARNING:matplotlib.font_manager:findfont: Font family 'Helvetica' not found.\n",
            "WARNING:matplotlib.font_manager:findfont: Font family 'Helvetica' not found.\n"
          ]
        },
        {
          "output_type": "display_data",
          "data": {
            "text/plain": [
              "<Figure size 640x480 with 1 Axes>"
            ],
            "image/png": "[encoded data removed]"
          },
          "metadata": {}
        }
      ]
    },
    {
      "cell_type": "code",
      "source": [
        "# Plotting\n",
        "fig, ax = plt.subplots()\n",
        "conversion_rates.reset_index().plot(kind='scatter', x='group', y='conversion_rate', yerr='std_error', ax=ax)\n",
        "\n",
        "# Adding labels and title\n",
        "ax.set_ylabel('Conversion Rate')\n",
        "ax.set_xlabel('Group')\n",
        "ax.set_title('Conversion Rates by Group')\n",
        "\n",
        "# Show the plot\n",
        "plt.show()"
      ],
      "metadata": {
        "colab": {
          "base_uri": "https://localhost:8080/",
          "height": 1000
        },
        "id": "zX2fQeaD1tdN",
        "outputId": "bbdb67be-269a-445f-c8d0-4b1198b373b4"
      },
      "execution_count": null,
      "outputs": [
        {
          "output_type": "stream",
          "name": "stderr",
          "text": [
            "WARNING:matplotlib.font_manager:findfont: Font family 'Helvetica' not found.\n",
            "WARNING:matplotlib.font_manager:findfont: Font family 'Helvetica' not found.\n",
            "WARNING:matplotlib.font_manager:findfont: Font family 'Helvetica' not found.\n",
            "WARNING:matplotlib.font_manager:findfont: Font family 'Helvetica' not found.\n",
            "WARNING:matplotlib.font_manager:findfont: Font family 'Helvetica' not found.\n",
            "WARNING:matplotlib.font_manager:findfont: Font family 'Helvetica' not found.\n",
            "WARNING:matplotlib.font_manager:findfont: Font family 'Helvetica' not found.\n",
            "WARNING:matplotlib.font_manager:findfont: Font family 'Helvetica' not found.\n",
            "WARNING:matplotlib.font_manager:findfont: Font family 'Helvetica' not found.\n",
            "WARNING:matplotlib.font_manager:findfont: Font family 'Helvetica' not found.\n",
            "WARNING:matplotlib.font_manager:findfont: Font family 'Helvetica' not found.\n",
            "WARNING:matplotlib.font_manager:findfont: Font family 'Helvetica' not found.\n",
            "WARNING:matplotlib.font_manager:findfont: Font family 'Helvetica' not found.\n",
            "WARNING:matplotlib.font_manager:findfont: Font family 'Helvetica' not found.\n",
            "WARNING:matplotlib.font_manager:findfont: Font family 'Helvetica' not found.\n",
            "WARNING:matplotlib.font_manager:findfont: Font family 'Helvetica' not found.\n",
            "WARNING:matplotlib.font_manager:findfont: Font family 'Helvetica' not found.\n",
            "WARNING:matplotlib.font_manager:findfont: Font family 'Helvetica' not found.\n",
            "WARNING:matplotlib.font_manager:findfont: Font family 'Helvetica' not found.\n",
            "WARNING:matplotlib.font_manager:findfont: Font family 'Helvetica' not found.\n",
            "WARNING:matplotlib.font_manager:findfont: Font family 'Helvetica' not found.\n",
            "WARNING:matplotlib.font_manager:findfont: Font family 'Helvetica' not found.\n",
            "WARNING:matplotlib.font_manager:findfont: Font family 'Helvetica' not found.\n",
            "WARNING:matplotlib.font_manager:findfont: Font family 'Helvetica' not found.\n",
            "WARNING:matplotlib.font_manager:findfont: Font family 'Helvetica' not found.\n",
            "WARNING:matplotlib.font_manager:findfont: Font family 'Helvetica' not found.\n",
            "WARNING:matplotlib.font_manager:findfont: Font family 'Helvetica' not found.\n",
            "WARNING:matplotlib.font_manager:findfont: Font family 'Helvetica' not found.\n",
            "WARNING:matplotlib.font_manager:findfont: Font family 'Helvetica' not found.\n",
            "WARNING:matplotlib.font_manager:findfont: Font family 'Helvetica' not found.\n",
            "WARNING:matplotlib.font_manager:findfont: Font family 'Helvetica' not found.\n",
            "WARNING:matplotlib.font_manager:findfont: Font family 'Helvetica' not found.\n",
            "WARNING:matplotlib.font_manager:findfont: Font family 'Helvetica' not found.\n",
            "WARNING:matplotlib.font_manager:findfont: Font family 'Helvetica' not found.\n",
            "WARNING:matplotlib.font_manager:findfont: Font family 'Helvetica' not found.\n",
            "WARNING:matplotlib.font_manager:findfont: Font family 'Helvetica' not found.\n",
            "WARNING:matplotlib.font_manager:findfont: Font family 'Helvetica' not found.\n",
            "WARNING:matplotlib.font_manager:findfont: Font family 'Helvetica' not found.\n",
            "WARNING:matplotlib.font_manager:findfont: Font family 'Helvetica' not found.\n",
            "WARNING:matplotlib.font_manager:findfont: Font family 'Helvetica' not found.\n",
            "WARNING:matplotlib.font_manager:findfont: Font family 'Helvetica' not found.\n",
            "WARNING:matplotlib.font_manager:findfont: Font family 'Helvetica' not found.\n"
          ]
        },
        {
          "output_type": "display_data",
          "data": {
            "text/plain": [
              "<Figure size 640x480 with 1 Axes>"
            ],
            "image/png": "[encoded data removed]"
          },
          "metadata": {}
        }
      ]
    },
    {
      "cell_type": "markdown",
      "source": [
        "Testing the hypothesis\n",
        "\n",
        "The last step of our analysis is testing our hypothesis. Since we have a very large sample, we can use the normal approximation for calculating our p-value (i.e. z-test).\n",
        "Again, Python makes all the calculations very easy. We can use the statsmodels.stats.proportion module to get the p-value and confidence intervals:"
      ],
      "metadata": {
        "id": "f8AsfgUn4PkP"
      }
    },
    {
      "cell_type": "code",
      "source": [
        "from statsmodels.stats.proportion import proportions_ztest,proportion_confint\n",
        "control_results = ab_test [ab_test['group']=='control']['converted']\n",
        "treatment_results = ab_test [ab_test['group'] == 'treatment']['converted']\n",
        "n_con = control_results.count()\n",
        "n_treat =treatment_results.count()\n",
        "\n",
        "successes= [control_results.sum(), treatment_results.sum()]\n",
        "nobs = [n_con, n_treat]\n",
        "z_stat, pval = proportions_ztest(successes, nobs)\n",
        "(lower_con, lower_treat), (upper_con, upper_treat) =proportion_confint (successes, nobs, alpha=0.05)\n",
        "print(f'z statistic: {z_stat:.2f}')\n",
        "print(f'p-value: {pval:.3f}')\n",
        "print(f'ci 95% for control group: [{lower_con:.3f}, {upper_con: .3f}]')\n",
        "print(f'ci 95% for treatment group: [{lower_treat:.3f}, {upper_treat:.3f}]')\n"
      ],
      "metadata": {
        "colab": {
          "base_uri": "https://localhost:8080/"
        },
        "id": "_8HOuYht3qiR",
        "outputId": "bd0df4f6-c058-469e-b63a-71960d1f19a5"
      },
      "execution_count": null,
      "outputs": [
        {
          "output_type": "stream",
          "name": "stdout",
          "text": [
            "z statistic: -0.34\n",
            "p-value: 0.732\n",
            "ci 95% for control group: [0.114,  0.133]\n",
            "ci 95% for treatment group: [0.116, 0.135]\n"
          ]
        }
      ]
    },
    {
      "cell_type": "markdown",
      "source": [
        "**Drawing conclusions**\n",
        "\n",
        "Since our p-value=0.732 is way above our α=0.05 threshold, we cannot reject the Null hypothesis Hₒ,\n",
        "which means that our new design did not perform significantly different (let alone better) than our old one :(\n",
        "Additionally,\n",
        "if we look at the confidence interval for the treatment group ([0.116, 0.135], or 11.6-13.5%) we notice that:\n",
        "It includes our baseline value of 13% conversion rate\n",
        "\n",
        "It does not include our target value of 15% (the 2% uplift we were aiming for)\n",
        "What this means is that it is more likely that the true conversion rate of the new design is similar to our baseline, rather than the 15% target we had hoped for. This is further proof that our new design is not likely to be an improvement on our old design, and that unfortunately we are back to the drawing board!"
      ],
      "metadata": {
        "id": "tJIVamZO6kY1"
      }
    },
    {
      "cell_type": "code",
      "source": [],
      "metadata": {
        "id": "DK_b6j_M3vDB"
      },
      "execution_count": null,
      "outputs": []
    }
  ]
}